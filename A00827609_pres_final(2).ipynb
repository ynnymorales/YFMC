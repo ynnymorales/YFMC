{
  "nbformat": 4,
  "nbformat_minor": 0,
  "metadata": {
    "colab": {
      "name": "A00827609_pres_final.ipynb",
      "provenance": [],
      "collapsed_sections": []
    },
    "kernelspec": {
      "name": "python3",
      "display_name": "Python 3"
    },
    "language_info": {
      "name": "python"
    }
  },
  "cells": [
    {
      "cell_type": "code",
      "execution_count": 2,
      "metadata": {
        "id": "uTGWI80uVWqh",
        "colab": {
          "base_uri": "https://localhost:8080/"
        },
        "outputId": "2f3ed6ad-f6c2-495f-9c7d-5cb20cca9a0c"
      },
      "outputs": [
        {
          "output_type": "stream",
          "name": "stdout",
          "text": [
            "Requirement already satisfied: pandas in /usr/local/lib/python3.7/dist-packages (1.3.5)\n",
            "Requirement already satisfied: python-dateutil>=2.7.3 in /usr/local/lib/python3.7/dist-packages (from pandas) (2.8.2)\n",
            "Requirement already satisfied: numpy>=1.17.3 in /usr/local/lib/python3.7/dist-packages (from pandas) (1.21.5)\n",
            "Requirement already satisfied: pytz>=2017.3 in /usr/local/lib/python3.7/dist-packages (from pandas) (2018.9)\n",
            "Requirement already satisfied: six>=1.5 in /usr/local/lib/python3.7/dist-packages (from python-dateutil>=2.7.3->pandas) (1.15.0)\n"
          ]
        }
      ],
      "source": [
        "pip install pandas"
      ]
    },
    {
      "cell_type": "code",
      "source": [
        "pip install openpyxl"
      ],
      "metadata": {
        "id": "YMqmN4y2VZBD",
        "colab": {
          "base_uri": "https://localhost:8080/"
        },
        "outputId": "f05f8b18-4468-4c41-a414-954846ff0891"
      },
      "execution_count": 3,
      "outputs": [
        {
          "output_type": "stream",
          "name": "stdout",
          "text": [
            "Requirement already satisfied: openpyxl in /usr/local/lib/python3.7/dist-packages (3.0.9)\n",
            "Requirement already satisfied: et-xmlfile in /usr/local/lib/python3.7/dist-packages (from openpyxl) (1.1.0)\n"
          ]
        }
      ]
    },
    {
      "cell_type": "code",
      "source": [
        "pip install xlrd"
      ],
      "metadata": {
        "id": "wcvkXSoeVas_",
        "colab": {
          "base_uri": "https://localhost:8080/"
        },
        "outputId": "2ef83ce1-c5f0-40a4-a831-a74138fc7ece"
      },
      "execution_count": 4,
      "outputs": [
        {
          "output_type": "stream",
          "name": "stdout",
          "text": [
            "Requirement already satisfied: xlrd in /usr/local/lib/python3.7/dist-packages (1.1.0)\n"
          ]
        }
      ]
    },
    {
      "cell_type": "code",
      "source": [
        "pip install seaborn"
      ],
      "metadata": {
        "id": "K_MspIaCVcGO",
        "colab": {
          "base_uri": "https://localhost:8080/"
        },
        "outputId": "033b97c1-d79d-490e-c39b-22a6fd1bbb3e"
      },
      "execution_count": 5,
      "outputs": [
        {
          "output_type": "stream",
          "name": "stdout",
          "text": [
            "Requirement already satisfied: seaborn in /usr/local/lib/python3.7/dist-packages (0.11.2)\n",
            "Requirement already satisfied: scipy>=1.0 in /usr/local/lib/python3.7/dist-packages (from seaborn) (1.4.1)\n",
            "Requirement already satisfied: numpy>=1.15 in /usr/local/lib/python3.7/dist-packages (from seaborn) (1.21.5)\n",
            "Requirement already satisfied: matplotlib>=2.2 in /usr/local/lib/python3.7/dist-packages (from seaborn) (3.2.2)\n",
            "Requirement already satisfied: pandas>=0.23 in /usr/local/lib/python3.7/dist-packages (from seaborn) (1.3.5)\n",
            "Requirement already satisfied: pyparsing!=2.0.4,!=2.1.2,!=2.1.6,>=2.0.1 in /usr/local/lib/python3.7/dist-packages (from matplotlib>=2.2->seaborn) (3.0.7)\n",
            "Requirement already satisfied: kiwisolver>=1.0.1 in /usr/local/lib/python3.7/dist-packages (from matplotlib>=2.2->seaborn) (1.3.2)\n",
            "Requirement already satisfied: cycler>=0.10 in /usr/local/lib/python3.7/dist-packages (from matplotlib>=2.2->seaborn) (0.11.0)\n",
            "Requirement already satisfied: python-dateutil>=2.1 in /usr/local/lib/python3.7/dist-packages (from matplotlib>=2.2->seaborn) (2.8.2)\n",
            "Requirement already satisfied: pytz>=2017.3 in /usr/local/lib/python3.7/dist-packages (from pandas>=0.23->seaborn) (2018.9)\n",
            "Requirement already satisfied: six>=1.5 in /usr/local/lib/python3.7/dist-packages (from python-dateutil>=2.1->matplotlib>=2.2->seaborn) (1.15.0)\n"
          ]
        }
      ]
    },
    {
      "cell_type": "code",
      "source": [
        "pip install matplotlib"
      ],
      "metadata": {
        "id": "QQh70PzcVdpP",
        "colab": {
          "base_uri": "https://localhost:8080/"
        },
        "outputId": "7f74ba32-5318-4248-812f-c1020ff156f8"
      },
      "execution_count": 6,
      "outputs": [
        {
          "output_type": "stream",
          "name": "stdout",
          "text": [
            "Requirement already satisfied: matplotlib in /usr/local/lib/python3.7/dist-packages (3.2.2)\n",
            "Requirement already satisfied: pyparsing!=2.0.4,!=2.1.2,!=2.1.6,>=2.0.1 in /usr/local/lib/python3.7/dist-packages (from matplotlib) (3.0.7)\n",
            "Requirement already satisfied: cycler>=0.10 in /usr/local/lib/python3.7/dist-packages (from matplotlib) (0.11.0)\n",
            "Requirement already satisfied: numpy>=1.11 in /usr/local/lib/python3.7/dist-packages (from matplotlib) (1.21.5)\n",
            "Requirement already satisfied: kiwisolver>=1.0.1 in /usr/local/lib/python3.7/dist-packages (from matplotlib) (1.3.2)\n",
            "Requirement already satisfied: python-dateutil>=2.1 in /usr/local/lib/python3.7/dist-packages (from matplotlib) (2.8.2)\n",
            "Requirement already satisfied: six>=1.5 in /usr/local/lib/python3.7/dist-packages (from python-dateutil>=2.1->matplotlib) (1.15.0)\n"
          ]
        }
      ]
    },
    {
      "cell_type": "code",
      "source": [
        "import random"
      ],
      "metadata": {
        "id": "BVvNNDweVgsJ"
      },
      "execution_count": 7,
      "outputs": []
    },
    {
      "cell_type": "code",
      "source": [
        "import pandas as pd\n",
        "import numpy as np\n",
        "import seaborn as sns\n",
        "import matplotlib as mlp\n",
        "import matplotlib.pyplot as plt\n",
        "import plotly.express as px"
      ],
      "metadata": {
        "id": "Df1hFpgoViVY"
      },
      "execution_count": 8,
      "outputs": []
    },
    {
      "cell_type": "markdown",
      "source": [
        "# Yenny Fernanda Morales Cortez A00827609\n",
        "\n",
        "## *Introduction*\n",
        "\n",
        "### Dataset: Solar Power by Country\n",
        "\n"
      ],
      "metadata": {
        "id": "TlnG6sMiVzpr"
      }
    },
    {
      "cell_type": "code",
      "source": [
        "datafile = \"solar_power_by_country.csv\"\n",
        "\n",
        "# Read the .csv file and store it\n",
        "df = pd.read_csv(datafile)\n",
        "df"
      ],
      "metadata": {
        "colab": {
          "base_uri": "https://localhost:8080/",
          "height": 574
        },
        "id": "x9_sdjM5Vs39",
        "outputId": "f801f57c-8bb1-492c-fb45-ad05a6104f88"
      },
      "execution_count": 120,
      "outputs": [
        {
          "output_type": "execute_result",
          "data": {
            "text/plain": [
              "   Country or territory  2016_New  2016_Total  2017_New  2017_Total  2018_New  \\\n",
              "0                 China   34540.0     78070.0   53000.0    131000.0   45000.0   \n",
              "1        European Union       NaN    101433.0       NaN    107150.0    8300.0   \n",
              "2         United States   14730.0     40300.0   10600.0     51000.0   10600.0   \n",
              "3                 Japan    8600.0     42750.0    7000.0     49000.0    6500.0   \n",
              "4               Germany    1520.0     41220.0    1800.0     42000.0    3000.0   \n",
              "..                  ...       ...         ...       ...         ...       ...   \n",
              "75                 Oman       NaN         2.0       NaN         8.0       NaN   \n",
              "76             Colombia       NaN         2.0       NaN        11.0       NaN   \n",
              "77                Kenya       NaN        32.0       NaN        39.0       NaN   \n",
              "78            Guatemala       NaN        93.0       NaN        99.0       NaN   \n",
              "79              Croatia       8.0        56.0       4.0        60.0       1.0   \n",
              "\n",
              "    2018_Total  2019_New  2019_Total  2020_New  2020_Total  W per capita 2019  \\\n",
              "0       175018   30100.0      204700   49655.0      254355              147.0   \n",
              "1       115234   16000.0      134129   18788.0      152917              295.0   \n",
              "2        53184   13300.0       60682   14890.0       75572              231.0   \n",
              "3        55500    7000.0       63000    4000.0       67000              498.0   \n",
              "4        45930    3900.0       49200    4583.0       53783              593.0   \n",
              "..         ...       ...         ...       ...         ...                ...   \n",
              "75           8       NaN           9       NaN         109                NaN   \n",
              "76          86       NaN          90       NaN         107                NaN   \n",
              "77         105       NaN         106       NaN         106                NaN   \n",
              "78         101       NaN         101       NaN         101                NaN   \n",
              "79          61       NaN          69       NaN          85               17.0   \n",
              "\n",
              "    Share of total consumption %  \n",
              "0                            6.2  \n",
              "1                            6.0  \n",
              "2                            3.4  \n",
              "3                            8.3  \n",
              "4                            9.7  \n",
              "..                           ...  \n",
              "75                           NaN  \n",
              "76                           NaN  \n",
              "77                           NaN  \n",
              "78                           NaN  \n",
              "79                           NaN  \n",
              "\n",
              "[80 rows x 13 columns]"
            ],
            "text/html": [
              "\n",
              "  <div id=\"df-448dfa59-8b2c-4cac-8058-4acc210db35a\">\n",
              "    <div class=\"colab-df-container\">\n",
              "      <div>\n",
              "<style scoped>\n",
              "    .dataframe tbody tr th:only-of-type {\n",
              "        vertical-align: middle;\n",
              "    }\n",
              "\n",
              "    .dataframe tbody tr th {\n",
              "        vertical-align: top;\n",
              "    }\n",
              "\n",
              "    .dataframe thead th {\n",
              "        text-align: right;\n",
              "    }\n",
              "</style>\n",
              "<table border=\"1\" class=\"dataframe\">\n",
              "  <thead>\n",
              "    <tr style=\"text-align: right;\">\n",
              "      <th></th>\n",
              "      <th>Country or territory</th>\n",
              "      <th>2016_New</th>\n",
              "      <th>2016_Total</th>\n",
              "      <th>2017_New</th>\n",
              "      <th>2017_Total</th>\n",
              "      <th>2018_New</th>\n",
              "      <th>2018_Total</th>\n",
              "      <th>2019_New</th>\n",
              "      <th>2019_Total</th>\n",
              "      <th>2020_New</th>\n",
              "      <th>2020_Total</th>\n",
              "      <th>W per capita 2019</th>\n",
              "      <th>Share of total consumption %</th>\n",
              "    </tr>\n",
              "  </thead>\n",
              "  <tbody>\n",
              "    <tr>\n",
              "      <th>0</th>\n",
              "      <td>China</td>\n",
              "      <td>34540.0</td>\n",
              "      <td>78070.0</td>\n",
              "      <td>53000.0</td>\n",
              "      <td>131000.0</td>\n",
              "      <td>45000.0</td>\n",
              "      <td>175018</td>\n",
              "      <td>30100.0</td>\n",
              "      <td>204700</td>\n",
              "      <td>49655.0</td>\n",
              "      <td>254355</td>\n",
              "      <td>147.0</td>\n",
              "      <td>6.2</td>\n",
              "    </tr>\n",
              "    <tr>\n",
              "      <th>1</th>\n",
              "      <td>European Union</td>\n",
              "      <td>NaN</td>\n",
              "      <td>101433.0</td>\n",
              "      <td>NaN</td>\n",
              "      <td>107150.0</td>\n",
              "      <td>8300.0</td>\n",
              "      <td>115234</td>\n",
              "      <td>16000.0</td>\n",
              "      <td>134129</td>\n",
              "      <td>18788.0</td>\n",
              "      <td>152917</td>\n",
              "      <td>295.0</td>\n",
              "      <td>6.0</td>\n",
              "    </tr>\n",
              "    <tr>\n",
              "      <th>2</th>\n",
              "      <td>United States</td>\n",
              "      <td>14730.0</td>\n",
              "      <td>40300.0</td>\n",
              "      <td>10600.0</td>\n",
              "      <td>51000.0</td>\n",
              "      <td>10600.0</td>\n",
              "      <td>53184</td>\n",
              "      <td>13300.0</td>\n",
              "      <td>60682</td>\n",
              "      <td>14890.0</td>\n",
              "      <td>75572</td>\n",
              "      <td>231.0</td>\n",
              "      <td>3.4</td>\n",
              "    </tr>\n",
              "    <tr>\n",
              "      <th>3</th>\n",
              "      <td>Japan</td>\n",
              "      <td>8600.0</td>\n",
              "      <td>42750.0</td>\n",
              "      <td>7000.0</td>\n",
              "      <td>49000.0</td>\n",
              "      <td>6500.0</td>\n",
              "      <td>55500</td>\n",
              "      <td>7000.0</td>\n",
              "      <td>63000</td>\n",
              "      <td>4000.0</td>\n",
              "      <td>67000</td>\n",
              "      <td>498.0</td>\n",
              "      <td>8.3</td>\n",
              "    </tr>\n",
              "    <tr>\n",
              "      <th>4</th>\n",
              "      <td>Germany</td>\n",
              "      <td>1520.0</td>\n",
              "      <td>41220.0</td>\n",
              "      <td>1800.0</td>\n",
              "      <td>42000.0</td>\n",
              "      <td>3000.0</td>\n",
              "      <td>45930</td>\n",
              "      <td>3900.0</td>\n",
              "      <td>49200</td>\n",
              "      <td>4583.0</td>\n",
              "      <td>53783</td>\n",
              "      <td>593.0</td>\n",
              "      <td>9.7</td>\n",
              "    </tr>\n",
              "    <tr>\n",
              "      <th>...</th>\n",
              "      <td>...</td>\n",
              "      <td>...</td>\n",
              "      <td>...</td>\n",
              "      <td>...</td>\n",
              "      <td>...</td>\n",
              "      <td>...</td>\n",
              "      <td>...</td>\n",
              "      <td>...</td>\n",
              "      <td>...</td>\n",
              "      <td>...</td>\n",
              "      <td>...</td>\n",
              "      <td>...</td>\n",
              "      <td>...</td>\n",
              "    </tr>\n",
              "    <tr>\n",
              "      <th>75</th>\n",
              "      <td>Oman</td>\n",
              "      <td>NaN</td>\n",
              "      <td>2.0</td>\n",
              "      <td>NaN</td>\n",
              "      <td>8.0</td>\n",
              "      <td>NaN</td>\n",
              "      <td>8</td>\n",
              "      <td>NaN</td>\n",
              "      <td>9</td>\n",
              "      <td>NaN</td>\n",
              "      <td>109</td>\n",
              "      <td>NaN</td>\n",
              "      <td>NaN</td>\n",
              "    </tr>\n",
              "    <tr>\n",
              "      <th>76</th>\n",
              "      <td>Colombia</td>\n",
              "      <td>NaN</td>\n",
              "      <td>2.0</td>\n",
              "      <td>NaN</td>\n",
              "      <td>11.0</td>\n",
              "      <td>NaN</td>\n",
              "      <td>86</td>\n",
              "      <td>NaN</td>\n",
              "      <td>90</td>\n",
              "      <td>NaN</td>\n",
              "      <td>107</td>\n",
              "      <td>NaN</td>\n",
              "      <td>NaN</td>\n",
              "    </tr>\n",
              "    <tr>\n",
              "      <th>77</th>\n",
              "      <td>Kenya</td>\n",
              "      <td>NaN</td>\n",
              "      <td>32.0</td>\n",
              "      <td>NaN</td>\n",
              "      <td>39.0</td>\n",
              "      <td>NaN</td>\n",
              "      <td>105</td>\n",
              "      <td>NaN</td>\n",
              "      <td>106</td>\n",
              "      <td>NaN</td>\n",
              "      <td>106</td>\n",
              "      <td>NaN</td>\n",
              "      <td>NaN</td>\n",
              "    </tr>\n",
              "    <tr>\n",
              "      <th>78</th>\n",
              "      <td>Guatemala</td>\n",
              "      <td>NaN</td>\n",
              "      <td>93.0</td>\n",
              "      <td>NaN</td>\n",
              "      <td>99.0</td>\n",
              "      <td>NaN</td>\n",
              "      <td>101</td>\n",
              "      <td>NaN</td>\n",
              "      <td>101</td>\n",
              "      <td>NaN</td>\n",
              "      <td>101</td>\n",
              "      <td>NaN</td>\n",
              "      <td>NaN</td>\n",
              "    </tr>\n",
              "    <tr>\n",
              "      <th>79</th>\n",
              "      <td>Croatia</td>\n",
              "      <td>8.0</td>\n",
              "      <td>56.0</td>\n",
              "      <td>4.0</td>\n",
              "      <td>60.0</td>\n",
              "      <td>1.0</td>\n",
              "      <td>61</td>\n",
              "      <td>NaN</td>\n",
              "      <td>69</td>\n",
              "      <td>NaN</td>\n",
              "      <td>85</td>\n",
              "      <td>17.0</td>\n",
              "      <td>NaN</td>\n",
              "    </tr>\n",
              "  </tbody>\n",
              "</table>\n",
              "<p>80 rows × 13 columns</p>\n",
              "</div>\n",
              "      <button class=\"colab-df-convert\" onclick=\"convertToInteractive('df-448dfa59-8b2c-4cac-8058-4acc210db35a')\"\n",
              "              title=\"Convert this dataframe to an interactive table.\"\n",
              "              style=\"display:none;\">\n",
              "        \n",
              "  <svg xmlns=\"http://www.w3.org/2000/svg\" height=\"24px\"viewBox=\"0 0 24 24\"\n",
              "       width=\"24px\">\n",
              "    <path d=\"M0 0h24v24H0V0z\" fill=\"none\"/>\n",
              "    <path d=\"M18.56 5.44l.94 2.06.94-2.06 2.06-.94-2.06-.94-.94-2.06-.94 2.06-2.06.94zm-11 1L8.5 8.5l.94-2.06 2.06-.94-2.06-.94L8.5 2.5l-.94 2.06-2.06.94zm10 10l.94 2.06.94-2.06 2.06-.94-2.06-.94-.94-2.06-.94 2.06-2.06.94z\"/><path d=\"M17.41 7.96l-1.37-1.37c-.4-.4-.92-.59-1.43-.59-.52 0-1.04.2-1.43.59L10.3 9.45l-7.72 7.72c-.78.78-.78 2.05 0 2.83L4 21.41c.39.39.9.59 1.41.59.51 0 1.02-.2 1.41-.59l7.78-7.78 2.81-2.81c.8-.78.8-2.07 0-2.86zM5.41 20L4 18.59l7.72-7.72 1.47 1.35L5.41 20z\"/>\n",
              "  </svg>\n",
              "      </button>\n",
              "      \n",
              "  <style>\n",
              "    .colab-df-container {\n",
              "      display:flex;\n",
              "      flex-wrap:wrap;\n",
              "      gap: 12px;\n",
              "    }\n",
              "\n",
              "    .colab-df-convert {\n",
              "      background-color: #E8F0FE;\n",
              "      border: none;\n",
              "      border-radius: 50%;\n",
              "      cursor: pointer;\n",
              "      display: none;\n",
              "      fill: #1967D2;\n",
              "      height: 32px;\n",
              "      padding: 0 0 0 0;\n",
              "      width: 32px;\n",
              "    }\n",
              "\n",
              "    .colab-df-convert:hover {\n",
              "      background-color: #E2EBFA;\n",
              "      box-shadow: 0px 1px 2px rgba(60, 64, 67, 0.3), 0px 1px 3px 1px rgba(60, 64, 67, 0.15);\n",
              "      fill: #174EA6;\n",
              "    }\n",
              "\n",
              "    [theme=dark] .colab-df-convert {\n",
              "      background-color: #3B4455;\n",
              "      fill: #D2E3FC;\n",
              "    }\n",
              "\n",
              "    [theme=dark] .colab-df-convert:hover {\n",
              "      background-color: #434B5C;\n",
              "      box-shadow: 0px 1px 3px 1px rgba(0, 0, 0, 0.15);\n",
              "      filter: drop-shadow(0px 1px 2px rgba(0, 0, 0, 0.3));\n",
              "      fill: #FFFFFF;\n",
              "    }\n",
              "  </style>\n",
              "\n",
              "      <script>\n",
              "        const buttonEl =\n",
              "          document.querySelector('#df-448dfa59-8b2c-4cac-8058-4acc210db35a button.colab-df-convert');\n",
              "        buttonEl.style.display =\n",
              "          google.colab.kernel.accessAllowed ? 'block' : 'none';\n",
              "\n",
              "        async function convertToInteractive(key) {\n",
              "          const element = document.querySelector('#df-448dfa59-8b2c-4cac-8058-4acc210db35a');\n",
              "          const dataTable =\n",
              "            await google.colab.kernel.invokeFunction('convertToInteractive',\n",
              "                                                     [key], {});\n",
              "          if (!dataTable) return;\n",
              "\n",
              "          const docLinkHtml = 'Like what you see? Visit the ' +\n",
              "            '<a target=\"_blank\" href=https://colab.research.google.com/notebooks/data_table.ipynb>data table notebook</a>'\n",
              "            + ' to learn more about interactive tables.';\n",
              "          element.innerHTML = '';\n",
              "          dataTable['output_type'] = 'display_data';\n",
              "          await google.colab.output.renderOutput(dataTable, element);\n",
              "          const docLink = document.createElement('div');\n",
              "          docLink.innerHTML = docLinkHtml;\n",
              "          element.appendChild(docLink);\n",
              "        }\n",
              "      </script>\n",
              "    </div>\n",
              "  </div>\n",
              "  "
            ]
          },
          "metadata": {},
          "execution_count": 120
        }
      ]
    },
    {
      "cell_type": "markdown",
      "source": [
        "**Description of the data:** \n",
        "The dataset shows the total power capacity (MW) and new installation, in each country from 2016 to 2020.\n",
        "\n",
        "**My variables of interest**\n",
        "*   Country or territory: The name of the coutry.\n",
        "*   2016_Total - 2020_Total: Electricity produced by Solar Power in MW (MegaWatts).\n",
        "* 2016_New - 2020_New: New Electricity produced by Solar Power compared to the year before\n",
        "* W per capita 2019: Estimated energy consumption per person in 2019 (W)\n",
        "* Share of total consumption: Percentage of energy that is consumed by each country from the total world energy consumption"
      ],
      "metadata": {
        "id": "MCxEkJHg9fdl"
      }
    },
    {
      "cell_type": "code",
      "source": [
        "result = df.dtypes\n",
        "print(result)"
      ],
      "metadata": {
        "colab": {
          "base_uri": "https://localhost:8080/"
        },
        "id": "pp9On9LX9UuZ",
        "outputId": "280a1dac-b5d4-4464-9527-18307e94ab1a"
      },
      "execution_count": 122,
      "outputs": [
        {
          "output_type": "stream",
          "name": "stdout",
          "text": [
            "Country or territory             object\n",
            "2016_New                        float64\n",
            "2016_Total                      float64\n",
            "2017_New                        float64\n",
            "2017_Total                      float64\n",
            "2018_New                        float64\n",
            "2018_Total                        int64\n",
            "2019_New                        float64\n",
            "2019_Total                        int64\n",
            "2020_New                        float64\n",
            "2020_Total                        int64\n",
            "W per capita 2019               float64\n",
            "Share of total consumption %    float64\n",
            "dtype: object\n"
          ]
        }
      ]
    },
    {
      "cell_type": "code",
      "source": [
        "# Cleaning the data\n",
        "# Replaces NaN for 0\n",
        "df = df.fillna(0)"
      ],
      "metadata": {
        "id": "RuVaBA-6cruK"
      },
      "execution_count": 101,
      "outputs": []
    },
    {
      "cell_type": "code",
      "source": [
        "# Changes the names of the columns\n",
        "df.rename(columns = {'Country or territory':'Country',\n",
        "                     '2016_Total':'2016',\n",
        "                     '2017_Total':'2017',\n",
        "                     '2018_Total':'2018',\n",
        "                     '2019_Total':'2019',\n",
        "                     '2020_Total':'2020',\n",
        "                     '2016_New':'2016 N',\n",
        "                     '2017_New':'2017 N',\n",
        "                     '2018_New':'2018 N',\n",
        "                     '2019_New':'2019 N',\n",
        "                     '2020_New':'2020 N'},\n",
        "          inplace = True)\n",
        "df.head()"
      ],
      "metadata": {
        "colab": {
          "base_uri": "https://localhost:8080/",
          "height": 357
        },
        "id": "4EXevt2k7mTT",
        "outputId": "42b0ca41-8a5d-454a-de6a-720181c21c22"
      },
      "execution_count": 102,
      "outputs": [
        {
          "output_type": "execute_result",
          "data": {
            "text/plain": [
              "          Country   2016 N      2016   2017 N      2017   2018 N    2018  \\\n",
              "0           China  34540.0   78070.0  53000.0  131000.0  45000.0  175018   \n",
              "1  European Union      0.0  101433.0      0.0  107150.0   8300.0  115234   \n",
              "2   United States  14730.0   40300.0  10600.0   51000.0  10600.0   53184   \n",
              "3           Japan   8600.0   42750.0   7000.0   49000.0   6500.0   55500   \n",
              "4         Germany   1520.0   41220.0   1800.0   42000.0   3000.0   45930   \n",
              "\n",
              "    2019 N    2019   2020 N    2020  W per capita 2019  \\\n",
              "0  30100.0  204700  49655.0  254355              147.0   \n",
              "1  16000.0  134129  18788.0  152917              295.0   \n",
              "2  13300.0   60682  14890.0   75572              231.0   \n",
              "3   7000.0   63000   4000.0   67000              498.0   \n",
              "4   3900.0   49200   4583.0   53783              593.0   \n",
              "\n",
              "   Share of total consumption %  \n",
              "0                           6.2  \n",
              "1                           6.0  \n",
              "2                           3.4  \n",
              "3                           8.3  \n",
              "4                           9.7  "
            ],
            "text/html": [
              "\n",
              "  <div id=\"df-588d6dfd-b677-4635-9f13-ea26deb58f36\">\n",
              "    <div class=\"colab-df-container\">\n",
              "      <div>\n",
              "<style scoped>\n",
              "    .dataframe tbody tr th:only-of-type {\n",
              "        vertical-align: middle;\n",
              "    }\n",
              "\n",
              "    .dataframe tbody tr th {\n",
              "        vertical-align: top;\n",
              "    }\n",
              "\n",
              "    .dataframe thead th {\n",
              "        text-align: right;\n",
              "    }\n",
              "</style>\n",
              "<table border=\"1\" class=\"dataframe\">\n",
              "  <thead>\n",
              "    <tr style=\"text-align: right;\">\n",
              "      <th></th>\n",
              "      <th>Country</th>\n",
              "      <th>2016 N</th>\n",
              "      <th>2016</th>\n",
              "      <th>2017 N</th>\n",
              "      <th>2017</th>\n",
              "      <th>2018 N</th>\n",
              "      <th>2018</th>\n",
              "      <th>2019 N</th>\n",
              "      <th>2019</th>\n",
              "      <th>2020 N</th>\n",
              "      <th>2020</th>\n",
              "      <th>W per capita 2019</th>\n",
              "      <th>Share of total consumption %</th>\n",
              "    </tr>\n",
              "  </thead>\n",
              "  <tbody>\n",
              "    <tr>\n",
              "      <th>0</th>\n",
              "      <td>China</td>\n",
              "      <td>34540.0</td>\n",
              "      <td>78070.0</td>\n",
              "      <td>53000.0</td>\n",
              "      <td>131000.0</td>\n",
              "      <td>45000.0</td>\n",
              "      <td>175018</td>\n",
              "      <td>30100.0</td>\n",
              "      <td>204700</td>\n",
              "      <td>49655.0</td>\n",
              "      <td>254355</td>\n",
              "      <td>147.0</td>\n",
              "      <td>6.2</td>\n",
              "    </tr>\n",
              "    <tr>\n",
              "      <th>1</th>\n",
              "      <td>European Union</td>\n",
              "      <td>0.0</td>\n",
              "      <td>101433.0</td>\n",
              "      <td>0.0</td>\n",
              "      <td>107150.0</td>\n",
              "      <td>8300.0</td>\n",
              "      <td>115234</td>\n",
              "      <td>16000.0</td>\n",
              "      <td>134129</td>\n",
              "      <td>18788.0</td>\n",
              "      <td>152917</td>\n",
              "      <td>295.0</td>\n",
              "      <td>6.0</td>\n",
              "    </tr>\n",
              "    <tr>\n",
              "      <th>2</th>\n",
              "      <td>United States</td>\n",
              "      <td>14730.0</td>\n",
              "      <td>40300.0</td>\n",
              "      <td>10600.0</td>\n",
              "      <td>51000.0</td>\n",
              "      <td>10600.0</td>\n",
              "      <td>53184</td>\n",
              "      <td>13300.0</td>\n",
              "      <td>60682</td>\n",
              "      <td>14890.0</td>\n",
              "      <td>75572</td>\n",
              "      <td>231.0</td>\n",
              "      <td>3.4</td>\n",
              "    </tr>\n",
              "    <tr>\n",
              "      <th>3</th>\n",
              "      <td>Japan</td>\n",
              "      <td>8600.0</td>\n",
              "      <td>42750.0</td>\n",
              "      <td>7000.0</td>\n",
              "      <td>49000.0</td>\n",
              "      <td>6500.0</td>\n",
              "      <td>55500</td>\n",
              "      <td>7000.0</td>\n",
              "      <td>63000</td>\n",
              "      <td>4000.0</td>\n",
              "      <td>67000</td>\n",
              "      <td>498.0</td>\n",
              "      <td>8.3</td>\n",
              "    </tr>\n",
              "    <tr>\n",
              "      <th>4</th>\n",
              "      <td>Germany</td>\n",
              "      <td>1520.0</td>\n",
              "      <td>41220.0</td>\n",
              "      <td>1800.0</td>\n",
              "      <td>42000.0</td>\n",
              "      <td>3000.0</td>\n",
              "      <td>45930</td>\n",
              "      <td>3900.0</td>\n",
              "      <td>49200</td>\n",
              "      <td>4583.0</td>\n",
              "      <td>53783</td>\n",
              "      <td>593.0</td>\n",
              "      <td>9.7</td>\n",
              "    </tr>\n",
              "  </tbody>\n",
              "</table>\n",
              "</div>\n",
              "      <button class=\"colab-df-convert\" onclick=\"convertToInteractive('df-588d6dfd-b677-4635-9f13-ea26deb58f36')\"\n",
              "              title=\"Convert this dataframe to an interactive table.\"\n",
              "              style=\"display:none;\">\n",
              "        \n",
              "  <svg xmlns=\"http://www.w3.org/2000/svg\" height=\"24px\"viewBox=\"0 0 24 24\"\n",
              "       width=\"24px\">\n",
              "    <path d=\"M0 0h24v24H0V0z\" fill=\"none\"/>\n",
              "    <path d=\"M18.56 5.44l.94 2.06.94-2.06 2.06-.94-2.06-.94-.94-2.06-.94 2.06-2.06.94zm-11 1L8.5 8.5l.94-2.06 2.06-.94-2.06-.94L8.5 2.5l-.94 2.06-2.06.94zm10 10l.94 2.06.94-2.06 2.06-.94-2.06-.94-.94-2.06-.94 2.06-2.06.94z\"/><path d=\"M17.41 7.96l-1.37-1.37c-.4-.4-.92-.59-1.43-.59-.52 0-1.04.2-1.43.59L10.3 9.45l-7.72 7.72c-.78.78-.78 2.05 0 2.83L4 21.41c.39.39.9.59 1.41.59.51 0 1.02-.2 1.41-.59l7.78-7.78 2.81-2.81c.8-.78.8-2.07 0-2.86zM5.41 20L4 18.59l7.72-7.72 1.47 1.35L5.41 20z\"/>\n",
              "  </svg>\n",
              "      </button>\n",
              "      \n",
              "  <style>\n",
              "    .colab-df-container {\n",
              "      display:flex;\n",
              "      flex-wrap:wrap;\n",
              "      gap: 12px;\n",
              "    }\n",
              "\n",
              "    .colab-df-convert {\n",
              "      background-color: #E8F0FE;\n",
              "      border: none;\n",
              "      border-radius: 50%;\n",
              "      cursor: pointer;\n",
              "      display: none;\n",
              "      fill: #1967D2;\n",
              "      height: 32px;\n",
              "      padding: 0 0 0 0;\n",
              "      width: 32px;\n",
              "    }\n",
              "\n",
              "    .colab-df-convert:hover {\n",
              "      background-color: #E2EBFA;\n",
              "      box-shadow: 0px 1px 2px rgba(60, 64, 67, 0.3), 0px 1px 3px 1px rgba(60, 64, 67, 0.15);\n",
              "      fill: #174EA6;\n",
              "    }\n",
              "\n",
              "    [theme=dark] .colab-df-convert {\n",
              "      background-color: #3B4455;\n",
              "      fill: #D2E3FC;\n",
              "    }\n",
              "\n",
              "    [theme=dark] .colab-df-convert:hover {\n",
              "      background-color: #434B5C;\n",
              "      box-shadow: 0px 1px 3px 1px rgba(0, 0, 0, 0.15);\n",
              "      filter: drop-shadow(0px 1px 2px rgba(0, 0, 0, 0.3));\n",
              "      fill: #FFFFFF;\n",
              "    }\n",
              "  </style>\n",
              "\n",
              "      <script>\n",
              "        const buttonEl =\n",
              "          document.querySelector('#df-588d6dfd-b677-4635-9f13-ea26deb58f36 button.colab-df-convert');\n",
              "        buttonEl.style.display =\n",
              "          google.colab.kernel.accessAllowed ? 'block' : 'none';\n",
              "\n",
              "        async function convertToInteractive(key) {\n",
              "          const element = document.querySelector('#df-588d6dfd-b677-4635-9f13-ea26deb58f36');\n",
              "          const dataTable =\n",
              "            await google.colab.kernel.invokeFunction('convertToInteractive',\n",
              "                                                     [key], {});\n",
              "          if (!dataTable) return;\n",
              "\n",
              "          const docLinkHtml = 'Like what you see? Visit the ' +\n",
              "            '<a target=\"_blank\" href=https://colab.research.google.com/notebooks/data_table.ipynb>data table notebook</a>'\n",
              "            + ' to learn more about interactive tables.';\n",
              "          element.innerHTML = '';\n",
              "          dataTable['output_type'] = 'display_data';\n",
              "          await google.colab.output.renderOutput(dataTable, element);\n",
              "          const docLink = document.createElement('div');\n",
              "          docLink.innerHTML = docLinkHtml;\n",
              "          element.appendChild(docLink);\n",
              "        }\n",
              "      </script>\n",
              "    </div>\n",
              "  </div>\n",
              "  "
            ]
          },
          "metadata": {},
          "execution_count": 102
        }
      ]
    },
    {
      "cell_type": "code",
      "source": [
        "df2 = df.drop(['2016 N',\n",
        "               '2017 N',\n",
        "               '2018 N',\n",
        "               '2019 N',\n",
        "               '2020 N',\n",
        "              'W per capita 2019'],\n",
        "              axis = 1)\n",
        "df2.head()"
      ],
      "metadata": {
        "colab": {
          "base_uri": "https://localhost:8080/",
          "height": 302
        },
        "id": "fG949yNgSlCE",
        "outputId": "3a20fe82-9d03-4968-f581-a78aeddb27be"
      },
      "execution_count": 103,
      "outputs": [
        {
          "output_type": "execute_result",
          "data": {
            "text/plain": [
              "          Country      2016      2017    2018    2019    2020  \\\n",
              "0           China   78070.0  131000.0  175018  204700  254355   \n",
              "1  European Union  101433.0  107150.0  115234  134129  152917   \n",
              "2   United States   40300.0   51000.0   53184   60682   75572   \n",
              "3           Japan   42750.0   49000.0   55500   63000   67000   \n",
              "4         Germany   41220.0   42000.0   45930   49200   53783   \n",
              "\n",
              "   Share of total consumption %  \n",
              "0                           6.2  \n",
              "1                           6.0  \n",
              "2                           3.4  \n",
              "3                           8.3  \n",
              "4                           9.7  "
            ],
            "text/html": [
              "\n",
              "  <div id=\"df-68c17bbb-d264-4136-bc35-95ced1f00913\">\n",
              "    <div class=\"colab-df-container\">\n",
              "      <div>\n",
              "<style scoped>\n",
              "    .dataframe tbody tr th:only-of-type {\n",
              "        vertical-align: middle;\n",
              "    }\n",
              "\n",
              "    .dataframe tbody tr th {\n",
              "        vertical-align: top;\n",
              "    }\n",
              "\n",
              "    .dataframe thead th {\n",
              "        text-align: right;\n",
              "    }\n",
              "</style>\n",
              "<table border=\"1\" class=\"dataframe\">\n",
              "  <thead>\n",
              "    <tr style=\"text-align: right;\">\n",
              "      <th></th>\n",
              "      <th>Country</th>\n",
              "      <th>2016</th>\n",
              "      <th>2017</th>\n",
              "      <th>2018</th>\n",
              "      <th>2019</th>\n",
              "      <th>2020</th>\n",
              "      <th>Share of total consumption %</th>\n",
              "    </tr>\n",
              "  </thead>\n",
              "  <tbody>\n",
              "    <tr>\n",
              "      <th>0</th>\n",
              "      <td>China</td>\n",
              "      <td>78070.0</td>\n",
              "      <td>131000.0</td>\n",
              "      <td>175018</td>\n",
              "      <td>204700</td>\n",
              "      <td>254355</td>\n",
              "      <td>6.2</td>\n",
              "    </tr>\n",
              "    <tr>\n",
              "      <th>1</th>\n",
              "      <td>European Union</td>\n",
              "      <td>101433.0</td>\n",
              "      <td>107150.0</td>\n",
              "      <td>115234</td>\n",
              "      <td>134129</td>\n",
              "      <td>152917</td>\n",
              "      <td>6.0</td>\n",
              "    </tr>\n",
              "    <tr>\n",
              "      <th>2</th>\n",
              "      <td>United States</td>\n",
              "      <td>40300.0</td>\n",
              "      <td>51000.0</td>\n",
              "      <td>53184</td>\n",
              "      <td>60682</td>\n",
              "      <td>75572</td>\n",
              "      <td>3.4</td>\n",
              "    </tr>\n",
              "    <tr>\n",
              "      <th>3</th>\n",
              "      <td>Japan</td>\n",
              "      <td>42750.0</td>\n",
              "      <td>49000.0</td>\n",
              "      <td>55500</td>\n",
              "      <td>63000</td>\n",
              "      <td>67000</td>\n",
              "      <td>8.3</td>\n",
              "    </tr>\n",
              "    <tr>\n",
              "      <th>4</th>\n",
              "      <td>Germany</td>\n",
              "      <td>41220.0</td>\n",
              "      <td>42000.0</td>\n",
              "      <td>45930</td>\n",
              "      <td>49200</td>\n",
              "      <td>53783</td>\n",
              "      <td>9.7</td>\n",
              "    </tr>\n",
              "  </tbody>\n",
              "</table>\n",
              "</div>\n",
              "      <button class=\"colab-df-convert\" onclick=\"convertToInteractive('df-68c17bbb-d264-4136-bc35-95ced1f00913')\"\n",
              "              title=\"Convert this dataframe to an interactive table.\"\n",
              "              style=\"display:none;\">\n",
              "        \n",
              "  <svg xmlns=\"http://www.w3.org/2000/svg\" height=\"24px\"viewBox=\"0 0 24 24\"\n",
              "       width=\"24px\">\n",
              "    <path d=\"M0 0h24v24H0V0z\" fill=\"none\"/>\n",
              "    <path d=\"M18.56 5.44l.94 2.06.94-2.06 2.06-.94-2.06-.94-.94-2.06-.94 2.06-2.06.94zm-11 1L8.5 8.5l.94-2.06 2.06-.94-2.06-.94L8.5 2.5l-.94 2.06-2.06.94zm10 10l.94 2.06.94-2.06 2.06-.94-2.06-.94-.94-2.06-.94 2.06-2.06.94z\"/><path d=\"M17.41 7.96l-1.37-1.37c-.4-.4-.92-.59-1.43-.59-.52 0-1.04.2-1.43.59L10.3 9.45l-7.72 7.72c-.78.78-.78 2.05 0 2.83L4 21.41c.39.39.9.59 1.41.59.51 0 1.02-.2 1.41-.59l7.78-7.78 2.81-2.81c.8-.78.8-2.07 0-2.86zM5.41 20L4 18.59l7.72-7.72 1.47 1.35L5.41 20z\"/>\n",
              "  </svg>\n",
              "      </button>\n",
              "      \n",
              "  <style>\n",
              "    .colab-df-container {\n",
              "      display:flex;\n",
              "      flex-wrap:wrap;\n",
              "      gap: 12px;\n",
              "    }\n",
              "\n",
              "    .colab-df-convert {\n",
              "      background-color: #E8F0FE;\n",
              "      border: none;\n",
              "      border-radius: 50%;\n",
              "      cursor: pointer;\n",
              "      display: none;\n",
              "      fill: #1967D2;\n",
              "      height: 32px;\n",
              "      padding: 0 0 0 0;\n",
              "      width: 32px;\n",
              "    }\n",
              "\n",
              "    .colab-df-convert:hover {\n",
              "      background-color: #E2EBFA;\n",
              "      box-shadow: 0px 1px 2px rgba(60, 64, 67, 0.3), 0px 1px 3px 1px rgba(60, 64, 67, 0.15);\n",
              "      fill: #174EA6;\n",
              "    }\n",
              "\n",
              "    [theme=dark] .colab-df-convert {\n",
              "      background-color: #3B4455;\n",
              "      fill: #D2E3FC;\n",
              "    }\n",
              "\n",
              "    [theme=dark] .colab-df-convert:hover {\n",
              "      background-color: #434B5C;\n",
              "      box-shadow: 0px 1px 3px 1px rgba(0, 0, 0, 0.15);\n",
              "      filter: drop-shadow(0px 1px 2px rgba(0, 0, 0, 0.3));\n",
              "      fill: #FFFFFF;\n",
              "    }\n",
              "  </style>\n",
              "\n",
              "      <script>\n",
              "        const buttonEl =\n",
              "          document.querySelector('#df-68c17bbb-d264-4136-bc35-95ced1f00913 button.colab-df-convert');\n",
              "        buttonEl.style.display =\n",
              "          google.colab.kernel.accessAllowed ? 'block' : 'none';\n",
              "\n",
              "        async function convertToInteractive(key) {\n",
              "          const element = document.querySelector('#df-68c17bbb-d264-4136-bc35-95ced1f00913');\n",
              "          const dataTable =\n",
              "            await google.colab.kernel.invokeFunction('convertToInteractive',\n",
              "                                                     [key], {});\n",
              "          if (!dataTable) return;\n",
              "\n",
              "          const docLinkHtml = 'Like what you see? Visit the ' +\n",
              "            '<a target=\"_blank\" href=https://colab.research.google.com/notebooks/data_table.ipynb>data table notebook</a>'\n",
              "            + ' to learn more about interactive tables.';\n",
              "          element.innerHTML = '';\n",
              "          dataTable['output_type'] = 'display_data';\n",
              "          await google.colab.output.renderOutput(dataTable, element);\n",
              "          const docLink = document.createElement('div');\n",
              "          docLink.innerHTML = docLinkHtml;\n",
              "          element.appendChild(docLink);\n",
              "        }\n",
              "      </script>\n",
              "    </div>\n",
              "  </div>\n",
              "  "
            ]
          },
          "metadata": {},
          "execution_count": 103
        }
      ]
    },
    {
      "cell_type": "markdown",
      "source": [
        "## ***Which country produced the most solar power electricity (MW) in 2020?***"
      ],
      "metadata": {
        "id": "Mh6MnxVZcKT1"
      }
    },
    {
      "cell_type": "code",
      "source": [
        "maxi = df['2020'].max()\n",
        "maxid = df['2020'].idxmax()\n",
        "maxc = df.iloc[0,maxid]\n",
        "\n",
        "print('The country that produced the most solar power electricity in 2020 was', maxc, 'with', maxi, 'MW.')"
      ],
      "metadata": {
        "colab": {
          "base_uri": "https://localhost:8080/"
        },
        "id": "PANOU9gT84Fk",
        "outputId": "8f41714e-2b54-4e4b-8bb6-d3ba45463266"
      },
      "execution_count": 104,
      "outputs": [
        {
          "output_type": "stream",
          "name": "stdout",
          "text": [
            "The country that produced the most solar power electricity in 2020 was China with 254355 MW.\n"
          ]
        }
      ]
    },
    {
      "cell_type": "code",
      "source": [
        "fig1 = px.sunburst(df,\n",
        "                   values = '2020',\n",
        "                   path = ['2020','Country','Share of total consumption %'],\n",
        "                   color = 'Country',\n",
        "                   title = 'Solar Energy (MW) Produced and Share of Consumption (%) by Country in 2020'\n",
        "                   )\n",
        "plt.savefig('sample_data/MW_perCountry_2020')\n",
        "fig1.show()"
      ],
      "metadata": {
        "colab": {
          "base_uri": "https://localhost:8080/",
          "height": 560
        },
        "id": "-FPj19zVdNz-",
        "outputId": "ecfd3d05-056e-4542-9a21-97cb356e6adb"
      },
      "execution_count": 105,
      "outputs": [
        {
          "output_type": "display_data",
          "data": {
            "text/html": [
              "<html>\n",
              "<head><meta charset=\"utf-8\" /></head>\n",
              "<body>\n",
              "    <div>            <script src=\"https://cdnjs.cloudflare.com/ajax/libs/mathjax/2.7.5/MathJax.js?config=TeX-AMS-MML_SVG\"></script><script type=\"text/javascript\">if (window.MathJax) {MathJax.Hub.Config({SVG: {font: \"STIX-Web\"}});}</script>                <script type=\"text/javascript\">window.PlotlyConfig = {MathJaxConfig: 'local'};</script>\n",
              "        <script src=\"https://cdn.plot.ly/plotly-2.8.3.min.js\"></script>                <div id=\"49c3a523-0fac-4057-8bf6-3bcb8308ccd3\" class=\"plotly-graph-div\" style=\"height:525px; width:100%;\"></div>            <script type=\"text/javascript\">                                    window.PLOTLYENV=window.PLOTLYENV || {};                                    if (document.getElementById(\"49c3a523-0fac-4057-8bf6-3bcb8308ccd3\")) {                    Plotly.newPlot(                        \"49c3a523-0fac-4057-8bf6-3bcb8308ccd3\",                        [{\"branchvalues\":\"total\",\"customdata\":[[\"Malaysia\"],[\"Sweden\"],[\"Croatia\"],[\"Russia\"],[\"Romania\"],[\"China\"],[\"Kenya\"],[\"Spain\"],[\"Hungary\"],[\"Finland\"],[\"Denmark\"],[\"New Zealand\"],[\"Pakistan\"],[\"Algeria\"],[\"Greece\"],[\"Honduras\"],[\"European Union\"],[\"Bulgaria\"],[\"Saudi Arabia\"],[\"Norway\"],[\"Cyprus\"],[\"Slovenia\"],[\"Slovakia\"],[\"Netherlands\"],[\"Argentina\"],[\"Mexico\"],[\"Estonia\"],[\"Bolivia\"],[\"Oman\"],[\"Australia\"],[\"South Africa\"],[\"Senegal\"],[\"Cambodia\"],[\"Turkey\"],[\"France\"],[\"United Kingdom\"],[\"Poland\"],[\"Colombia\"],[\"Belarus\"],[\"Yemen\"],[\"Germany\"],[\"Belgium\"],[\"Switzerland\"],[\"Taiwan\"],[\"Ukraine\"],[\"Lithuania\"],[\"Morocco\"],[\"Italy\"],[\"Guatemala\"],[\"Japan\"],[\"Malta\"],[\"Chile\"],[\"Singapore\"],[\"Israel\"],[\"Austria\"],[\"Iran\"],[\"Namibia\"],[\"Canada\"],[\"Vietnam\"],[\"United Arab Emirates\"],[\"Thailand\"],[\"India\"],[\"Portugal\"],[\"Brazil\"],[\"United States\"],[\"Iraq\"],[\"Dominican Republic\"],[\"Egypt\"],[\"Uruguay\"],[\"Panama\"],[\"Jordan\"],[\"Peru\"],[\"Indonesia\"],[\"Luxembourg\"],[\"Philippines\"],[\"El Salvador\"],[\"Bangladesh\"],[\"Czech Republic\"],[\"Cuba\"],[\"South Korea\"],[\"Algeria\"],[\"Argentina\"],[\"Australia\"],[\"Austria\"],[\"Bangladesh\"],[\"Belarus\"],[\"Belgium\"],[\"Bolivia\"],[\"Brazil\"],[\"Bulgaria\"],[\"Cambodia\"],[\"Canada\"],[\"Chile\"],[\"China\"],[\"Colombia\"],[\"Croatia\"],[\"Cuba\"],[\"Cyprus\"],[\"Czech Republic\"],[\"Denmark\"],[\"Dominican Republic\"],[\"Egypt\"],[\"El Salvador\"],[\"Estonia\"],[\"European Union\"],[\"Finland\"],[\"France\"],[\"Germany\"],[\"Greece\"],[\"Guatemala\"],[\"Honduras\"],[\"Hungary\"],[\"India\"],[\"Indonesia\"],[\"Iran\"],[\"Iraq\"],[\"Israel\"],[\"Italy\"],[\"Japan\"],[\"Jordan\"],[\"Kenya\"],[\"Lithuania\"],[\"Luxembourg\"],[\"Malaysia\"],[\"Malta\"],[\"Mexico\"],[\"Morocco\"],[\"Namibia\"],[\"Netherlands\"],[\"New Zealand\"],[\"Norway\"],[\"Oman\"],[\"Pakistan\"],[\"Panama\"],[\"Peru\"],[\"Philippines\"],[\"Poland\"],[\"Portugal\"],[\"Romania\"],[\"Russia\"],[\"Saudi Arabia\"],[\"Senegal\"],[\"Singapore\"],[\"Slovakia\"],[\"Slovenia\"],[\"South Africa\"],[\"South Korea\"],[\"Spain\"],[\"Sweden\"],[\"Switzerland\"],[\"Taiwan\"],[\"Thailand\"],[\"Turkey\"],[\"Ukraine\"],[\"United Arab Emirates\"],[\"United Kingdom\"],[\"United States\"],[\"Uruguay\"],[\"Vietnam\"],[\"Yemen\"],[\"Croatia\"],[\"Guatemala\"],[\"Kenya\"],[\"Colombia\"],[\"Oman\"],[\"Bolivia\"],[\"Estonia\"],[\"New Zealand\"],[\"Namibia\"],[\"Lithuania\"],[\"Norway\"],[\"Senegal\"],[\"Belarus\"],[\"Cuba\"],[\"Indonesia\"],[\"Malta\"],[\"Luxembourg\"],[\"Panama\"],[\"Cyprus\"],[\"Cambodia\"],[\"Iraq\"],[\"Yemen\"],[\"Uruguay\"],[\"Slovenia\"],[\"Bangladesh\"],[\"Singapore\"],[\"Peru\"],[\"Dominican Republic\"],[\"Finland\"],[\"Saudi Arabia\"],[\"Iran\"],[\"El Salvador\"],[\"Algeria\"],[\"Honduras\"],[\"Slovakia\"],[\"Morocco\"],[\"Pakistan\"],[\"Argentina\"],[\"Portugal\"],[\"Philippines\"],[\"Bulgaria\"],[\"Denmark\"],[\"Jordan\"],[\"Romania\"],[\"Sweden\"],[\"Russia\"],[\"Malaysia\"],[\"Egypt\"],[\"Hungary\"],[\"Czech Republic\"],[\"Austria\"],[\"Israel\"],[\"United Arab Emirates\"],[\"Thailand\"],[\"Switzerland\"],[\"Chile\"],[\"Greece\"],[\"Canada\"],[\"Poland\"],[\"Ukraine\"],[\"Mexico\"],[\"Belgium\"],[\"Taiwan\"],[\"South Africa\"],[\"Turkey\"],[\"Brazil\"],[\"Netherlands\"],[\"France\"],[\"United Kingdom\"],[\"Spain\"],[\"South Korea\"],[\"Vietnam\"],[\"Australia\"],[\"Italy\"],[\"India\"],[\"Germany\"],[\"Japan\"],[\"United States\"],[\"European Union\"],[\"China\"]],\"domain\":{\"x\":[0.0,1.0],\"y\":[0.0,1.0]},\"hovertemplate\":\"labels=%{label}<br>2020=%{value}<br>parent=%{parent}<br>id=%{id}<br>Country=%{customdata[0]}<extra></extra>\",\"ids\":[\"1493/Malaysia/2.4\",\"1417/Sweden/0.7\",\"85/Croatia/0.0\",\"1428/Russia/0.0\",\"1387/Romania/3.4\",\"254355/China/6.2\",\"106/Kenya/0.0\",\"14089/Spain/9.0\",\"1953/Hungary/0.0\",\"391/Finland/0.3\",\"1300/Denmark/4.1\",\"142/New Zealand/0.0\",\"737/Pakistan/0.0\",\"448/Algeria/0.0\",\"3247/Greece/9.3\",\"514/Honduras/12.9\",\"152917/European Union/6.0\",\"1073/Bulgaria/4.7\",\"409/Saudi Arabia/0.0\",\"152/Norway/0.1\",\"200/Cyprus/3.3\",\"267/Slovenia/0.0\",\"593/Slovakia/2.4\",\"10213/Netherlands/8.9\",\"764/Argentina/0.0\",\"5644/Mexico/3.2\",\"130/Estonia/0.0\",\"120/Bolivia/0.0\",\"109/Oman/0.0\",\"17627/Australia/10.7\",\"5990/South Africa/2.0\",\"155/Senegal/0.0\",\"208/Cambodia/0.0\",\"6668/Turkey/5.9\",\"11733/France/2.8\",\"13563/United Kingdom/4.0\",\"3936/Poland/0.0\",\"107/Colombia/0.0\",\"159/Belarus/0.0\",\"253/Yemen/0.0\",\"53783/Germany/9.7\",\"5646/Belgium/6.6\",\"3118/Switzerland/4.7\",\"5817/Taiwan/0.0\",\"5360/Ukraine/5.0\",\"148/Lithuania/0.0\",\"734/Morocco/1.3\",\"21600/Italy/8.3\",\"101/Guatemala/0.0\",\"67000/Japan/8.3\",\"184/Malta/6.5\",\"3205/Chile/9.1\",\"329/Singapore/0.8\",\"2249/Israel/4.7\",\"2220/Austria/3.4\",\"414/Iran/0.4\",\"145/Namibia/0.0\",\"3325/Canada/0.7\",\"16504/Vietnam/0.0\",\"2539/United Arab Emirates/0.0\",\"2988/Thailand/2.9\",\"39211/India/6.5\",\"1025/Portugal/3.4\",\"7881/Brazil/1.7\",\"75572/United States/3.4\",\"216/Iraq/0.0\",\"370/Dominican Republic/0.0\",\"1694/Egypt/0.0\",\"256/Uruguay/0.0\",\"198/Panama/0.0\",\"1359/Jordan/0.0\",\"331/Peru/0.0\",\"172/Indonesia/0.0\",\"195/Luxembourg/0.0\",\"1048/Philippines/0.0\",\"429/El Salvador/0.0\",\"301/Bangladesh/0.0\",\"2073/Czech Republic/3.5\",\"163/Cuba/0.0\",\"14575/South Korea/3.8\",\"448/Algeria\",\"764/Argentina\",\"17627/Australia\",\"2220/Austria\",\"301/Bangladesh\",\"159/Belarus\",\"5646/Belgium\",\"120/Bolivia\",\"7881/Brazil\",\"1073/Bulgaria\",\"208/Cambodia\",\"3325/Canada\",\"3205/Chile\",\"254355/China\",\"107/Colombia\",\"85/Croatia\",\"163/Cuba\",\"200/Cyprus\",\"2073/Czech Republic\",\"1300/Denmark\",\"370/Dominican Republic\",\"1694/Egypt\",\"429/El Salvador\",\"130/Estonia\",\"152917/European Union\",\"391/Finland\",\"11733/France\",\"53783/Germany\",\"3247/Greece\",\"101/Guatemala\",\"514/Honduras\",\"1953/Hungary\",\"39211/India\",\"172/Indonesia\",\"414/Iran\",\"216/Iraq\",\"2249/Israel\",\"21600/Italy\",\"67000/Japan\",\"1359/Jordan\",\"106/Kenya\",\"148/Lithuania\",\"195/Luxembourg\",\"1493/Malaysia\",\"184/Malta\",\"5644/Mexico\",\"734/Morocco\",\"145/Namibia\",\"10213/Netherlands\",\"142/New Zealand\",\"152/Norway\",\"109/Oman\",\"737/Pakistan\",\"198/Panama\",\"331/Peru\",\"1048/Philippines\",\"3936/Poland\",\"1025/Portugal\",\"1387/Romania\",\"1428/Russia\",\"409/Saudi Arabia\",\"155/Senegal\",\"329/Singapore\",\"593/Slovakia\",\"267/Slovenia\",\"5990/South Africa\",\"14575/South Korea\",\"14089/Spain\",\"1417/Sweden\",\"3118/Switzerland\",\"5817/Taiwan\",\"2988/Thailand\",\"6668/Turkey\",\"5360/Ukraine\",\"2539/United Arab Emirates\",\"13563/United Kingdom\",\"75572/United States\",\"256/Uruguay\",\"16504/Vietnam\",\"253/Yemen\",\"85\",\"101\",\"106\",\"107\",\"109\",\"120\",\"130\",\"142\",\"145\",\"148\",\"152\",\"155\",\"159\",\"163\",\"172\",\"184\",\"195\",\"198\",\"200\",\"208\",\"216\",\"253\",\"256\",\"267\",\"301\",\"329\",\"331\",\"370\",\"391\",\"409\",\"414\",\"429\",\"448\",\"514\",\"593\",\"734\",\"737\",\"764\",\"1025\",\"1048\",\"1073\",\"1300\",\"1359\",\"1387\",\"1417\",\"1428\",\"1493\",\"1694\",\"1953\",\"2073\",\"2220\",\"2249\",\"2539\",\"2988\",\"3118\",\"3205\",\"3247\",\"3325\",\"3936\",\"5360\",\"5644\",\"5646\",\"5817\",\"5990\",\"6668\",\"7881\",\"10213\",\"11733\",\"13563\",\"14089\",\"14575\",\"16504\",\"17627\",\"21600\",\"39211\",\"53783\",\"67000\",\"75572\",\"152917\",\"254355\"],\"labels\":[\"2.4\",\"0.7\",\"0.0\",\"0.0\",\"3.4\",\"6.2\",\"0.0\",\"9.0\",\"0.0\",\"0.3\",\"4.1\",\"0.0\",\"0.0\",\"0.0\",\"9.3\",\"12.9\",\"6.0\",\"4.7\",\"0.0\",\"0.1\",\"3.3\",\"0.0\",\"2.4\",\"8.9\",\"0.0\",\"3.2\",\"0.0\",\"0.0\",\"0.0\",\"10.7\",\"2.0\",\"0.0\",\"0.0\",\"5.9\",\"2.8\",\"4.0\",\"0.0\",\"0.0\",\"0.0\",\"0.0\",\"9.7\",\"6.6\",\"4.7\",\"0.0\",\"5.0\",\"0.0\",\"1.3\",\"8.3\",\"0.0\",\"8.3\",\"6.5\",\"9.1\",\"0.8\",\"4.7\",\"3.4\",\"0.4\",\"0.0\",\"0.7\",\"0.0\",\"0.0\",\"2.9\",\"6.5\",\"3.4\",\"1.7\",\"3.4\",\"0.0\",\"0.0\",\"0.0\",\"0.0\",\"0.0\",\"0.0\",\"0.0\",\"0.0\",\"0.0\",\"0.0\",\"0.0\",\"0.0\",\"3.5\",\"0.0\",\"3.8\",\"Algeria\",\"Argentina\",\"Australia\",\"Austria\",\"Bangladesh\",\"Belarus\",\"Belgium\",\"Bolivia\",\"Brazil\",\"Bulgaria\",\"Cambodia\",\"Canada\",\"Chile\",\"China\",\"Colombia\",\"Croatia\",\"Cuba\",\"Cyprus\",\"Czech Republic\",\"Denmark\",\"Dominican Republic\",\"Egypt\",\"El Salvador\",\"Estonia\",\"European Union\",\"Finland\",\"France\",\"Germany\",\"Greece\",\"Guatemala\",\"Honduras\",\"Hungary\",\"India\",\"Indonesia\",\"Iran\",\"Iraq\",\"Israel\",\"Italy\",\"Japan\",\"Jordan\",\"Kenya\",\"Lithuania\",\"Luxembourg\",\"Malaysia\",\"Malta\",\"Mexico\",\"Morocco\",\"Namibia\",\"Netherlands\",\"New Zealand\",\"Norway\",\"Oman\",\"Pakistan\",\"Panama\",\"Peru\",\"Philippines\",\"Poland\",\"Portugal\",\"Romania\",\"Russia\",\"Saudi Arabia\",\"Senegal\",\"Singapore\",\"Slovakia\",\"Slovenia\",\"South Africa\",\"South Korea\",\"Spain\",\"Sweden\",\"Switzerland\",\"Taiwan\",\"Thailand\",\"Turkey\",\"Ukraine\",\"United Arab Emirates\",\"United Kingdom\",\"United States\",\"Uruguay\",\"Vietnam\",\"Yemen\",\"85\",\"101\",\"106\",\"107\",\"109\",\"120\",\"130\",\"142\",\"145\",\"148\",\"152\",\"155\",\"159\",\"163\",\"172\",\"184\",\"195\",\"198\",\"200\",\"208\",\"216\",\"253\",\"256\",\"267\",\"301\",\"329\",\"331\",\"370\",\"391\",\"409\",\"414\",\"429\",\"448\",\"514\",\"593\",\"734\",\"737\",\"764\",\"1025\",\"1048\",\"1073\",\"1300\",\"1359\",\"1387\",\"1417\",\"1428\",\"1493\",\"1694\",\"1953\",\"2073\",\"2220\",\"2249\",\"2539\",\"2988\",\"3118\",\"3205\",\"3247\",\"3325\",\"3936\",\"5360\",\"5644\",\"5646\",\"5817\",\"5990\",\"6668\",\"7881\",\"10213\",\"11733\",\"13563\",\"14089\",\"14575\",\"16504\",\"17627\",\"21600\",\"39211\",\"53783\",\"67000\",\"75572\",\"152917\",\"254355\"],\"marker\":{\"colors\":[\"#636efa\",\"#EF553B\",\"#00cc96\",\"#ab63fa\",\"#FFA15A\",\"#19d3f3\",\"#FF6692\",\"#B6E880\",\"#FF97FF\",\"#FECB52\",\"#636efa\",\"#EF553B\",\"#00cc96\",\"#ab63fa\",\"#FFA15A\",\"#19d3f3\",\"#FF6692\",\"#B6E880\",\"#FF97FF\",\"#FECB52\",\"#636efa\",\"#EF553B\",\"#00cc96\",\"#ab63fa\",\"#FFA15A\",\"#19d3f3\",\"#FF6692\",\"#B6E880\",\"#FF97FF\",\"#FECB52\",\"#636efa\",\"#EF553B\",\"#00cc96\",\"#ab63fa\",\"#FFA15A\",\"#19d3f3\",\"#FF6692\",\"#B6E880\",\"#FF97FF\",\"#FECB52\",\"#636efa\",\"#EF553B\",\"#00cc96\",\"#ab63fa\",\"#FFA15A\",\"#19d3f3\",\"#FF6692\",\"#B6E880\",\"#FF97FF\",\"#FECB52\",\"#636efa\",\"#EF553B\",\"#00cc96\",\"#ab63fa\",\"#FFA15A\",\"#19d3f3\",\"#FF6692\",\"#B6E880\",\"#FF97FF\",\"#FECB52\",\"#636efa\",\"#EF553B\",\"#00cc96\",\"#ab63fa\",\"#FFA15A\",\"#19d3f3\",\"#FF6692\",\"#B6E880\",\"#FF97FF\",\"#FECB52\",\"#636efa\",\"#EF553B\",\"#00cc96\",\"#ab63fa\",\"#FFA15A\",\"#19d3f3\",\"#FF6692\",\"#B6E880\",\"#FF97FF\",\"#FECB52\",\"#ab63fa\",\"#FFA15A\",\"#FECB52\",\"#FFA15A\",\"#FF6692\",\"#FF97FF\",\"#EF553B\",\"#B6E880\",\"#ab63fa\",\"#B6E880\",\"#00cc96\",\"#B6E880\",\"#EF553B\",\"#19d3f3\",\"#B6E880\",\"#00cc96\",\"#FF97FF\",\"#636efa\",\"#B6E880\",\"#636efa\",\"#FF6692\",\"#B6E880\",\"#19d3f3\",\"#FF6692\",\"#FF6692\",\"#FECB52\",\"#FFA15A\",\"#636efa\",\"#FFA15A\",\"#FF97FF\",\"#19d3f3\",\"#FF97FF\",\"#EF553B\",\"#00cc96\",\"#19d3f3\",\"#19d3f3\",\"#ab63fa\",\"#B6E880\",\"#FECB52\",\"#636efa\",\"#FF6692\",\"#19d3f3\",\"#ab63fa\",\"#636efa\",\"#636efa\",\"#19d3f3\",\"#FF6692\",\"#FF6692\",\"#ab63fa\",\"#EF553B\",\"#FECB52\",\"#FF97FF\",\"#00cc96\",\"#FECB52\",\"#EF553B\",\"#FFA15A\",\"#FF6692\",\"#00cc96\",\"#FFA15A\",\"#ab63fa\",\"#FF97FF\",\"#EF553B\",\"#00cc96\",\"#00cc96\",\"#EF553B\",\"#636efa\",\"#FECB52\",\"#B6E880\",\"#EF553B\",\"#00cc96\",\"#ab63fa\",\"#636efa\",\"#ab63fa\",\"#FFA15A\",\"#FECB52\",\"#19d3f3\",\"#FFA15A\",\"#FF97FF\",\"#FF97FF\",\"#FECB52\",\"#00cc96\",\"#FF97FF\",\"#FF6692\",\"#B6E880\",\"#FF97FF\",\"#B6E880\",\"#FF6692\",\"#EF553B\",\"#FF6692\",\"#19d3f3\",\"#FECB52\",\"#EF553B\",\"#FF97FF\",\"#FF97FF\",\"#00cc96\",\"#636efa\",\"#ab63fa\",\"#FECB52\",\"#636efa\",\"#00cc96\",\"#19d3f3\",\"#FECB52\",\"#FF97FF\",\"#EF553B\",\"#FF6692\",\"#00cc96\",\"#EF553B\",\"#FF6692\",\"#FECB52\",\"#FF97FF\",\"#19d3f3\",\"#19d3f3\",\"#ab63fa\",\"#19d3f3\",\"#00cc96\",\"#FF6692\",\"#00cc96\",\"#FFA15A\",\"#00cc96\",\"#FFA15A\",\"#B6E880\",\"#636efa\",\"#636efa\",\"#FFA15A\",\"#EF553B\",\"#ab63fa\",\"#636efa\",\"#B6E880\",\"#FF97FF\",\"#B6E880\",\"#FFA15A\",\"#ab63fa\",\"#FECB52\",\"#636efa\",\"#00cc96\",\"#EF553B\",\"#FFA15A\",\"#B6E880\",\"#FF6692\",\"#FFA15A\",\"#19d3f3\",\"#EF553B\",\"#ab63fa\",\"#636efa\",\"#ab63fa\",\"#ab63fa\",\"#ab63fa\",\"#FFA15A\",\"#19d3f3\",\"#B6E880\",\"#FECB52\",\"#FF97FF\",\"#FECB52\",\"#B6E880\",\"#EF553B\",\"#636efa\",\"#FECB52\",\"#FFA15A\",\"#FF6692\",\"#19d3f3\"]},\"name\":\"\",\"parents\":[\"1493/Malaysia\",\"1417/Sweden\",\"85/Croatia\",\"1428/Russia\",\"1387/Romania\",\"254355/China\",\"106/Kenya\",\"14089/Spain\",\"1953/Hungary\",\"391/Finland\",\"1300/Denmark\",\"142/New Zealand\",\"737/Pakistan\",\"448/Algeria\",\"3247/Greece\",\"514/Honduras\",\"152917/European Union\",\"1073/Bulgaria\",\"409/Saudi Arabia\",\"152/Norway\",\"200/Cyprus\",\"267/Slovenia\",\"593/Slovakia\",\"10213/Netherlands\",\"764/Argentina\",\"5644/Mexico\",\"130/Estonia\",\"120/Bolivia\",\"109/Oman\",\"17627/Australia\",\"5990/South Africa\",\"155/Senegal\",\"208/Cambodia\",\"6668/Turkey\",\"11733/France\",\"13563/United Kingdom\",\"3936/Poland\",\"107/Colombia\",\"159/Belarus\",\"253/Yemen\",\"53783/Germany\",\"5646/Belgium\",\"3118/Switzerland\",\"5817/Taiwan\",\"5360/Ukraine\",\"148/Lithuania\",\"734/Morocco\",\"21600/Italy\",\"101/Guatemala\",\"67000/Japan\",\"184/Malta\",\"3205/Chile\",\"329/Singapore\",\"2249/Israel\",\"2220/Austria\",\"414/Iran\",\"145/Namibia\",\"3325/Canada\",\"16504/Vietnam\",\"2539/United Arab Emirates\",\"2988/Thailand\",\"39211/India\",\"1025/Portugal\",\"7881/Brazil\",\"75572/United States\",\"216/Iraq\",\"370/Dominican Republic\",\"1694/Egypt\",\"256/Uruguay\",\"198/Panama\",\"1359/Jordan\",\"331/Peru\",\"172/Indonesia\",\"195/Luxembourg\",\"1048/Philippines\",\"429/El Salvador\",\"301/Bangladesh\",\"2073/Czech Republic\",\"163/Cuba\",\"14575/South Korea\",\"448\",\"764\",\"17627\",\"2220\",\"301\",\"159\",\"5646\",\"120\",\"7881\",\"1073\",\"208\",\"3325\",\"3205\",\"254355\",\"107\",\"85\",\"163\",\"200\",\"2073\",\"1300\",\"370\",\"1694\",\"429\",\"130\",\"152917\",\"391\",\"11733\",\"53783\",\"3247\",\"101\",\"514\",\"1953\",\"39211\",\"172\",\"414\",\"216\",\"2249\",\"21600\",\"67000\",\"1359\",\"106\",\"148\",\"195\",\"1493\",\"184\",\"5644\",\"734\",\"145\",\"10213\",\"142\",\"152\",\"109\",\"737\",\"198\",\"331\",\"1048\",\"3936\",\"1025\",\"1387\",\"1428\",\"409\",\"155\",\"329\",\"593\",\"267\",\"5990\",\"14575\",\"14089\",\"1417\",\"3118\",\"5817\",\"2988\",\"6668\",\"5360\",\"2539\",\"13563\",\"75572\",\"256\",\"16504\",\"253\",\"\",\"\",\"\",\"\",\"\",\"\",\"\",\"\",\"\",\"\",\"\",\"\",\"\",\"\",\"\",\"\",\"\",\"\",\"\",\"\",\"\",\"\",\"\",\"\",\"\",\"\",\"\",\"\",\"\",\"\",\"\",\"\",\"\",\"\",\"\",\"\",\"\",\"\",\"\",\"\",\"\",\"\",\"\",\"\",\"\",\"\",\"\",\"\",\"\",\"\",\"\",\"\",\"\",\"\",\"\",\"\",\"\",\"\",\"\",\"\",\"\",\"\",\"\",\"\",\"\",\"\",\"\",\"\",\"\",\"\",\"\",\"\",\"\",\"\",\"\",\"\",\"\",\"\",\"\",\"\"],\"values\":[1493,1417,85,1428,1387,254355,106,14089,1953,391,1300,142,737,448,3247,514,152917,1073,409,152,200,267,593,10213,764,5644,130,120,109,17627,5990,155,208,6668,11733,13563,3936,107,159,253,53783,5646,3118,5817,5360,148,734,21600,101,67000,184,3205,329,2249,2220,414,145,3325,16504,2539,2988,39211,1025,7881,75572,216,370,1694,256,198,1359,331,172,195,1048,429,301,2073,163,14575,448,764,17627,2220,301,159,5646,120,7881,1073,208,3325,3205,254355,107,85,163,200,2073,1300,370,1694,429,130,152917,391,11733,53783,3247,101,514,1953,39211,172,414,216,2249,21600,67000,1359,106,148,195,1493,184,5644,734,145,10213,142,152,109,737,198,331,1048,3936,1025,1387,1428,409,155,329,593,267,5990,14575,14089,1417,3118,5817,2988,6668,5360,2539,13563,75572,256,16504,253,85,101,106,107,109,120,130,142,145,148,152,155,159,163,172,184,195,198,200,208,216,253,256,267,301,329,331,370,391,409,414,429,448,514,593,734,737,764,1025,1048,1073,1300,1359,1387,1417,1428,1493,1694,1953,2073,2220,2249,2539,2988,3118,3205,3247,3325,3936,5360,5644,5646,5817,5990,6668,7881,10213,11733,13563,14089,14575,16504,17627,21600,39211,53783,67000,75572,152917,254355],\"type\":\"sunburst\"}],                        {\"template\":{\"data\":{\"bar\":[{\"error_x\":{\"color\":\"#2a3f5f\"},\"error_y\":{\"color\":\"#2a3f5f\"},\"marker\":{\"line\":{\"color\":\"#E5ECF6\",\"width\":0.5},\"pattern\":{\"fillmode\":\"overlay\",\"size\":10,\"solidity\":0.2}},\"type\":\"bar\"}],\"barpolar\":[{\"marker\":{\"line\":{\"color\":\"#E5ECF6\",\"width\":0.5},\"pattern\":{\"fillmode\":\"overlay\",\"size\":10,\"solidity\":0.2}},\"type\":\"barpolar\"}],\"carpet\":[{\"aaxis\":{\"endlinecolor\":\"#2a3f5f\",\"gridcolor\":\"white\",\"linecolor\":\"white\",\"minorgridcolor\":\"white\",\"startlinecolor\":\"#2a3f5f\"},\"baxis\":{\"endlinecolor\":\"#2a3f5f\",\"gridcolor\":\"white\",\"linecolor\":\"white\",\"minorgridcolor\":\"white\",\"startlinecolor\":\"#2a3f5f\"},\"type\":\"carpet\"}],\"choropleth\":[{\"colorbar\":{\"outlinewidth\":0,\"ticks\":\"\"},\"type\":\"choropleth\"}],\"contour\":[{\"colorbar\":{\"outlinewidth\":0,\"ticks\":\"\"},\"colorscale\":[[0.0,\"#0d0887\"],[0.1111111111111111,\"#46039f\"],[0.2222222222222222,\"#7201a8\"],[0.3333333333333333,\"#9c179e\"],[0.4444444444444444,\"#bd3786\"],[0.5555555555555556,\"#d8576b\"],[0.6666666666666666,\"#ed7953\"],[0.7777777777777778,\"#fb9f3a\"],[0.8888888888888888,\"#fdca26\"],[1.0,\"#f0f921\"]],\"type\":\"contour\"}],\"contourcarpet\":[{\"colorbar\":{\"outlinewidth\":0,\"ticks\":\"\"},\"type\":\"contourcarpet\"}],\"heatmap\":[{\"colorbar\":{\"outlinewidth\":0,\"ticks\":\"\"},\"colorscale\":[[0.0,\"#0d0887\"],[0.1111111111111111,\"#46039f\"],[0.2222222222222222,\"#7201a8\"],[0.3333333333333333,\"#9c179e\"],[0.4444444444444444,\"#bd3786\"],[0.5555555555555556,\"#d8576b\"],[0.6666666666666666,\"#ed7953\"],[0.7777777777777778,\"#fb9f3a\"],[0.8888888888888888,\"#fdca26\"],[1.0,\"#f0f921\"]],\"type\":\"heatmap\"}],\"heatmapgl\":[{\"colorbar\":{\"outlinewidth\":0,\"ticks\":\"\"},\"colorscale\":[[0.0,\"#0d0887\"],[0.1111111111111111,\"#46039f\"],[0.2222222222222222,\"#7201a8\"],[0.3333333333333333,\"#9c179e\"],[0.4444444444444444,\"#bd3786\"],[0.5555555555555556,\"#d8576b\"],[0.6666666666666666,\"#ed7953\"],[0.7777777777777778,\"#fb9f3a\"],[0.8888888888888888,\"#fdca26\"],[1.0,\"#f0f921\"]],\"type\":\"heatmapgl\"}],\"histogram\":[{\"marker\":{\"pattern\":{\"fillmode\":\"overlay\",\"size\":10,\"solidity\":0.2}},\"type\":\"histogram\"}],\"histogram2d\":[{\"colorbar\":{\"outlinewidth\":0,\"ticks\":\"\"},\"colorscale\":[[0.0,\"#0d0887\"],[0.1111111111111111,\"#46039f\"],[0.2222222222222222,\"#7201a8\"],[0.3333333333333333,\"#9c179e\"],[0.4444444444444444,\"#bd3786\"],[0.5555555555555556,\"#d8576b\"],[0.6666666666666666,\"#ed7953\"],[0.7777777777777778,\"#fb9f3a\"],[0.8888888888888888,\"#fdca26\"],[1.0,\"#f0f921\"]],\"type\":\"histogram2d\"}],\"histogram2dcontour\":[{\"colorbar\":{\"outlinewidth\":0,\"ticks\":\"\"},\"colorscale\":[[0.0,\"#0d0887\"],[0.1111111111111111,\"#46039f\"],[0.2222222222222222,\"#7201a8\"],[0.3333333333333333,\"#9c179e\"],[0.4444444444444444,\"#bd3786\"],[0.5555555555555556,\"#d8576b\"],[0.6666666666666666,\"#ed7953\"],[0.7777777777777778,\"#fb9f3a\"],[0.8888888888888888,\"#fdca26\"],[1.0,\"#f0f921\"]],\"type\":\"histogram2dcontour\"}],\"mesh3d\":[{\"colorbar\":{\"outlinewidth\":0,\"ticks\":\"\"},\"type\":\"mesh3d\"}],\"parcoords\":[{\"line\":{\"colorbar\":{\"outlinewidth\":0,\"ticks\":\"\"}},\"type\":\"parcoords\"}],\"pie\":[{\"automargin\":true,\"type\":\"pie\"}],\"scatter\":[{\"marker\":{\"colorbar\":{\"outlinewidth\":0,\"ticks\":\"\"}},\"type\":\"scatter\"}],\"scatter3d\":[{\"line\":{\"colorbar\":{\"outlinewidth\":0,\"ticks\":\"\"}},\"marker\":{\"colorbar\":{\"outlinewidth\":0,\"ticks\":\"\"}},\"type\":\"scatter3d\"}],\"scattercarpet\":[{\"marker\":{\"colorbar\":{\"outlinewidth\":0,\"ticks\":\"\"}},\"type\":\"scattercarpet\"}],\"scattergeo\":[{\"marker\":{\"colorbar\":{\"outlinewidth\":0,\"ticks\":\"\"}},\"type\":\"scattergeo\"}],\"scattergl\":[{\"marker\":{\"colorbar\":{\"outlinewidth\":0,\"ticks\":\"\"}},\"type\":\"scattergl\"}],\"scattermapbox\":[{\"marker\":{\"colorbar\":{\"outlinewidth\":0,\"ticks\":\"\"}},\"type\":\"scattermapbox\"}],\"scatterpolar\":[{\"marker\":{\"colorbar\":{\"outlinewidth\":0,\"ticks\":\"\"}},\"type\":\"scatterpolar\"}],\"scatterpolargl\":[{\"marker\":{\"colorbar\":{\"outlinewidth\":0,\"ticks\":\"\"}},\"type\":\"scatterpolargl\"}],\"scatterternary\":[{\"marker\":{\"colorbar\":{\"outlinewidth\":0,\"ticks\":\"\"}},\"type\":\"scatterternary\"}],\"surface\":[{\"colorbar\":{\"outlinewidth\":0,\"ticks\":\"\"},\"colorscale\":[[0.0,\"#0d0887\"],[0.1111111111111111,\"#46039f\"],[0.2222222222222222,\"#7201a8\"],[0.3333333333333333,\"#9c179e\"],[0.4444444444444444,\"#bd3786\"],[0.5555555555555556,\"#d8576b\"],[0.6666666666666666,\"#ed7953\"],[0.7777777777777778,\"#fb9f3a\"],[0.8888888888888888,\"#fdca26\"],[1.0,\"#f0f921\"]],\"type\":\"surface\"}],\"table\":[{\"cells\":{\"fill\":{\"color\":\"#EBF0F8\"},\"line\":{\"color\":\"white\"}},\"header\":{\"fill\":{\"color\":\"#C8D4E3\"},\"line\":{\"color\":\"white\"}},\"type\":\"table\"}]},\"layout\":{\"annotationdefaults\":{\"arrowcolor\":\"#2a3f5f\",\"arrowhead\":0,\"arrowwidth\":1},\"autotypenumbers\":\"strict\",\"coloraxis\":{\"colorbar\":{\"outlinewidth\":0,\"ticks\":\"\"}},\"colorscale\":{\"diverging\":[[0,\"#8e0152\"],[0.1,\"#c51b7d\"],[0.2,\"#de77ae\"],[0.3,\"#f1b6da\"],[0.4,\"#fde0ef\"],[0.5,\"#f7f7f7\"],[0.6,\"#e6f5d0\"],[0.7,\"#b8e186\"],[0.8,\"#7fbc41\"],[0.9,\"#4d9221\"],[1,\"#276419\"]],\"sequential\":[[0.0,\"#0d0887\"],[0.1111111111111111,\"#46039f\"],[0.2222222222222222,\"#7201a8\"],[0.3333333333333333,\"#9c179e\"],[0.4444444444444444,\"#bd3786\"],[0.5555555555555556,\"#d8576b\"],[0.6666666666666666,\"#ed7953\"],[0.7777777777777778,\"#fb9f3a\"],[0.8888888888888888,\"#fdca26\"],[1.0,\"#f0f921\"]],\"sequentialminus\":[[0.0,\"#0d0887\"],[0.1111111111111111,\"#46039f\"],[0.2222222222222222,\"#7201a8\"],[0.3333333333333333,\"#9c179e\"],[0.4444444444444444,\"#bd3786\"],[0.5555555555555556,\"#d8576b\"],[0.6666666666666666,\"#ed7953\"],[0.7777777777777778,\"#fb9f3a\"],[0.8888888888888888,\"#fdca26\"],[1.0,\"#f0f921\"]]},\"colorway\":[\"#636efa\",\"#EF553B\",\"#00cc96\",\"#ab63fa\",\"#FFA15A\",\"#19d3f3\",\"#FF6692\",\"#B6E880\",\"#FF97FF\",\"#FECB52\"],\"font\":{\"color\":\"#2a3f5f\"},\"geo\":{\"bgcolor\":\"white\",\"lakecolor\":\"white\",\"landcolor\":\"#E5ECF6\",\"showlakes\":true,\"showland\":true,\"subunitcolor\":\"white\"},\"hoverlabel\":{\"align\":\"left\"},\"hovermode\":\"closest\",\"mapbox\":{\"style\":\"light\"},\"paper_bgcolor\":\"white\",\"plot_bgcolor\":\"#E5ECF6\",\"polar\":{\"angularaxis\":{\"gridcolor\":\"white\",\"linecolor\":\"white\",\"ticks\":\"\"},\"bgcolor\":\"#E5ECF6\",\"radialaxis\":{\"gridcolor\":\"white\",\"linecolor\":\"white\",\"ticks\":\"\"}},\"scene\":{\"xaxis\":{\"backgroundcolor\":\"#E5ECF6\",\"gridcolor\":\"white\",\"gridwidth\":2,\"linecolor\":\"white\",\"showbackground\":true,\"ticks\":\"\",\"zerolinecolor\":\"white\"},\"yaxis\":{\"backgroundcolor\":\"#E5ECF6\",\"gridcolor\":\"white\",\"gridwidth\":2,\"linecolor\":\"white\",\"showbackground\":true,\"ticks\":\"\",\"zerolinecolor\":\"white\"},\"zaxis\":{\"backgroundcolor\":\"#E5ECF6\",\"gridcolor\":\"white\",\"gridwidth\":2,\"linecolor\":\"white\",\"showbackground\":true,\"ticks\":\"\",\"zerolinecolor\":\"white\"}},\"shapedefaults\":{\"line\":{\"color\":\"#2a3f5f\"}},\"ternary\":{\"aaxis\":{\"gridcolor\":\"white\",\"linecolor\":\"white\",\"ticks\":\"\"},\"baxis\":{\"gridcolor\":\"white\",\"linecolor\":\"white\",\"ticks\":\"\"},\"bgcolor\":\"#E5ECF6\",\"caxis\":{\"gridcolor\":\"white\",\"linecolor\":\"white\",\"ticks\":\"\"}},\"title\":{\"x\":0.05},\"xaxis\":{\"automargin\":true,\"gridcolor\":\"white\",\"linecolor\":\"white\",\"ticks\":\"\",\"title\":{\"standoff\":15},\"zerolinecolor\":\"white\",\"zerolinewidth\":2},\"yaxis\":{\"automargin\":true,\"gridcolor\":\"white\",\"linecolor\":\"white\",\"ticks\":\"\",\"title\":{\"standoff\":15},\"zerolinecolor\":\"white\",\"zerolinewidth\":2}}},\"legend\":{\"tracegroupgap\":0},\"title\":{\"text\":\"Solar Energy (MW) Produced and Share of Consumption (%) by Country in 2020\"}},                        {\"responsive\": true}                    ).then(function(){\n",
              "                            \n",
              "var gd = document.getElementById('49c3a523-0fac-4057-8bf6-3bcb8308ccd3');\n",
              "var x = new MutationObserver(function (mutations, observer) {{\n",
              "        var display = window.getComputedStyle(gd).display;\n",
              "        if (!display || display === 'none') {{\n",
              "            console.log([gd, 'removed!']);\n",
              "            Plotly.purge(gd);\n",
              "            observer.disconnect();\n",
              "        }}\n",
              "}});\n",
              "\n",
              "// Listen for the removal of the full notebook cells\n",
              "var notebookContainer = gd.closest('#notebook-container');\n",
              "if (notebookContainer) {{\n",
              "    x.observe(notebookContainer, {childList: true});\n",
              "}}\n",
              "\n",
              "// Listen for the clearing of the current output cell\n",
              "var outputEl = gd.closest('.output');\n",
              "if (outputEl) {{\n",
              "    x.observe(outputEl, {childList: true});\n",
              "}}\n",
              "\n",
              "                        })                };                            </script>        </div>\n",
              "</body>\n",
              "</html>"
            ]
          },
          "metadata": {}
        },
        {
          "output_type": "display_data",
          "data": {
            "text/plain": [
              "<Figure size 432x288 with 0 Axes>"
            ]
          },
          "metadata": {}
        }
      ]
    },
    {
      "cell_type": "code",
      "source": [
        "fig2 = px.sunburst(df,\n",
        "                   values = 'W per capita 2019',\n",
        "                   path = ['Country','W per capita 2019'],\n",
        "                   color = 'Country',\n",
        "                   title = 'W consumed per capita in 2019 by Country'\n",
        "                   )\n",
        "plt.savefig('sample_data/MW_perCountry_2020')\n",
        "fig2.show()"
      ],
      "metadata": {
        "colab": {
          "base_uri": "https://localhost:8080/",
          "height": 560
        },
        "id": "027ov95F4zty",
        "outputId": "17f82876-6b47-4eb4-c4df-b3d26dd8b5d9"
      },
      "execution_count": 106,
      "outputs": [
        {
          "output_type": "display_data",
          "data": {
            "text/html": [
              "<html>\n",
              "<head><meta charset=\"utf-8\" /></head>\n",
              "<body>\n",
              "    <div>            <script src=\"https://cdnjs.cloudflare.com/ajax/libs/mathjax/2.7.5/MathJax.js?config=TeX-AMS-MML_SVG\"></script><script type=\"text/javascript\">if (window.MathJax) {MathJax.Hub.Config({SVG: {font: \"STIX-Web\"}});}</script>                <script type=\"text/javascript\">window.PlotlyConfig = {MathJaxConfig: 'local'};</script>\n",
              "        <script src=\"https://cdn.plot.ly/plotly-2.8.3.min.js\"></script>                <div id=\"6c222521-8ab2-446d-b36e-76cd7f48572b\" class=\"plotly-graph-div\" style=\"height:525px; width:100%;\"></div>            <script type=\"text/javascript\">                                    window.PLOTLYENV=window.PLOTLYENV || {};                                    if (document.getElementById(\"6c222521-8ab2-446d-b36e-76cd7f48572b\")) {                    Plotly.newPlot(                        \"6c222521-8ab2-446d-b36e-76cd7f48572b\",                        [{\"branchvalues\":\"total\",\"customdata\":[[\"Turkey\"],[\"Honduras\"],[\"El Salvador\"],[\"Croatia\"],[\"Chile\"],[\"South Korea\"],[\"Slovenia\"],[\"Italy\"],[\"Oman\"],[\"Thailand\"],[\"Taiwan\"],[\"Iran\"],[\"Pakistan\"],[\"Argentina\"],[\"Netherlands\"],[\"Australia\"],[\"United Kingdom\"],[\"Austria\"],[\"Egypt\"],[\"Finland\"],[\"Ukraine\"],[\"Brazil\"],[\"Portugal\"],[\"Malta\"],[\"Belarus\"],[\"Jordan\"],[\"Kenya\"],[\"Colombia\"],[\"Morocco\"],[\"Germany\"],[\"Romania\"],[\"Norway\"],[\"Cuba\"],[\"Czech Republic\"],[\"Slovakia\"],[\"Bulgaria\"],[\"Algeria\"],[\"Dominican Republic\"],[\"Cambodia\"],[\"Lithuania\"],[\"Japan\"],[\"Greece\"],[\"Denmark\"],[\"Malaysia\"],[\"Spain\"],[\"Uruguay\"],[\"Vietnam\"],[\"European Union\"],[\"New Zealand\"],[\"Switzerland\"],[\"Luxembourg\"],[\"Belgium\"],[\"Namibia\"],[\"United Arab Emirates\"],[\"Hungary\"],[\"South Africa\"],[\"Bangladesh\"],[\"Singapore\"],[\"Mexico\"],[\"India\"],[\"Canada\"],[\"United States\"],[\"Israel\"],[\"Sweden\"],[\"China\"],[\"Peru\"],[\"Guatemala\"],[\"Indonesia\"],[\"Poland\"],[\"Russia\"],[\"Saudi Arabia\"],[\"Senegal\"],[\"Panama\"],[\"Yemen\"],[\"Philippines\"],[\"Iraq\"],[\"Bolivia\"],[\"Cyprus\"],[\"Estonia\"],[\"France\"],[\"Algeria\"],[\"Argentina\"],[\"Australia\"],[\"Austria\"],[\"Bangladesh\"],[\"Belarus\"],[\"Belgium\"],[\"Bolivia\"],[\"Brazil\"],[\"Bulgaria\"],[\"Cambodia\"],[\"Canada\"],[\"Chile\"],[\"China\"],[\"Colombia\"],[\"Croatia\"],[\"Cuba\"],[\"Cyprus\"],[\"Czech Republic\"],[\"Denmark\"],[\"Dominican Republic\"],[\"Egypt\"],[\"El Salvador\"],[\"Estonia\"],[\"European Union\"],[\"Finland\"],[\"France\"],[\"Germany\"],[\"Greece\"],[\"Guatemala\"],[\"Honduras\"],[\"Hungary\"],[\"India\"],[\"Indonesia\"],[\"Iran\"],[\"Iraq\"],[\"Israel\"],[\"Italy\"],[\"Japan\"],[\"Jordan\"],[\"Kenya\"],[\"Lithuania\"],[\"Luxembourg\"],[\"Malaysia\"],[\"Malta\"],[\"Mexico\"],[\"Morocco\"],[\"Namibia\"],[\"Netherlands\"],[\"New Zealand\"],[\"Norway\"],[\"Oman\"],[\"Pakistan\"],[\"Panama\"],[\"Peru\"],[\"Philippines\"],[\"Poland\"],[\"Portugal\"],[\"Romania\"],[\"Russia\"],[\"Saudi Arabia\"],[\"Senegal\"],[\"Singapore\"],[\"Slovakia\"],[\"Slovenia\"],[\"South Africa\"],[\"South Korea\"],[\"Spain\"],[\"Sweden\"],[\"Switzerland\"],[\"Taiwan\"],[\"Thailand\"],[\"Turkey\"],[\"Ukraine\"],[\"United Arab Emirates\"],[\"United Kingdom\"],[\"United States\"],[\"Uruguay\"],[\"Vietnam\"],[\"Yemen\"]],\"domain\":{\"x\":[0.0,1.0],\"y\":[0.0,1.0]},\"hovertemplate\":\"labels=%{label}<br>W per capita 2019=%{value}<br>parent=%{parent}<br>id=%{id}<br>Country=%{customdata[0]}<extra></extra>\",\"ids\":[\"Turkey/73.0\",\"Honduras/53.0\",\"El Salvador/0.0\",\"Croatia/17.0\",\"Chile/142.0\",\"South Korea/217.0\",\"Slovenia/0.0\",\"Italy/345.0\",\"Oman/0.0\",\"Thailand/43.0\",\"Taiwan/172.0\",\"Iran/5.0\",\"Pakistan/6.0\",\"Argentina/0.0\",\"Netherlands/396.0\",\"Australia/637.0\",\"United Kingdom/200.0\",\"Austria/178.0\",\"Egypt/17.0\",\"Finland/39.0\",\"Ukraine/114.0\",\"Brazil/22.0\",\"Portugal/81.0\",\"Malta/312.0\",\"Belarus/0.0\",\"Jordan/100.0\",\"Kenya/0.0\",\"Colombia/0.0\",\"Morocco/6.0\",\"Germany/593.0\",\"Romania/71.0\",\"Norway/17.0\",\"Cuba/0.0\",\"Czech Republic/194.0\",\"Slovakia/87.0\",\"Bulgaria/152.0\",\"Algeria/10.0\",\"Dominican Republic/0.0\",\"Cambodia/0.0\",\"Lithuania/37.0\",\"Japan/498.0\",\"Greece/258.0\",\"Denmark/186.0\",\"Malaysia/28.0\",\"Spain/186.0\",\"Uruguay/0.0\",\"Vietnam/60.0\",\"European Union/295.0\",\"New Zealand/0.0\",\"Switzerland/295.0\",\"Luxembourg/244.0\",\"Belgium/394.0\",\"Namibia/55.0\",\"United Arab Emirates/185.0\",\"Hungary/131.0\",\"South Africa/44.0\",\"Bangladesh/2.0\",\"Singapore/45.0\",\"Mexico/35.0\",\"India/32.0\",\"Canada/88.0\",\"United States/231.0\",\"Israel/134.0\",\"Sweden/63.0\",\"China/147.0\",\"Peru/0.0\",\"Guatemala/0.0\",\"Indonesia/0.0\",\"Poland/34.0\",\"Russia/7.0\",\"Saudi Arabia/0.0\",\"Senegal/8.0\",\"Panama/0.0\",\"Yemen/0.0\",\"Philippines/9.0\",\"Iraq/0.0\",\"Bolivia/0.0\",\"Cyprus/147.0\",\"Estonia/0.0\",\"France/148.0\",\"Algeria\",\"Argentina\",\"Australia\",\"Austria\",\"Bangladesh\",\"Belarus\",\"Belgium\",\"Bolivia\",\"Brazil\",\"Bulgaria\",\"Cambodia\",\"Canada\",\"Chile\",\"China\",\"Colombia\",\"Croatia\",\"Cuba\",\"Cyprus\",\"Czech Republic\",\"Denmark\",\"Dominican Republic\",\"Egypt\",\"El Salvador\",\"Estonia\",\"European Union\",\"Finland\",\"France\",\"Germany\",\"Greece\",\"Guatemala\",\"Honduras\",\"Hungary\",\"India\",\"Indonesia\",\"Iran\",\"Iraq\",\"Israel\",\"Italy\",\"Japan\",\"Jordan\",\"Kenya\",\"Lithuania\",\"Luxembourg\",\"Malaysia\",\"Malta\",\"Mexico\",\"Morocco\",\"Namibia\",\"Netherlands\",\"New Zealand\",\"Norway\",\"Oman\",\"Pakistan\",\"Panama\",\"Peru\",\"Philippines\",\"Poland\",\"Portugal\",\"Romania\",\"Russia\",\"Saudi Arabia\",\"Senegal\",\"Singapore\",\"Slovakia\",\"Slovenia\",\"South Africa\",\"South Korea\",\"Spain\",\"Sweden\",\"Switzerland\",\"Taiwan\",\"Thailand\",\"Turkey\",\"Ukraine\",\"United Arab Emirates\",\"United Kingdom\",\"United States\",\"Uruguay\",\"Vietnam\",\"Yemen\"],\"labels\":[\"73.0\",\"53.0\",\"0.0\",\"17.0\",\"142.0\",\"217.0\",\"0.0\",\"345.0\",\"0.0\",\"43.0\",\"172.0\",\"5.0\",\"6.0\",\"0.0\",\"396.0\",\"637.0\",\"200.0\",\"178.0\",\"17.0\",\"39.0\",\"114.0\",\"22.0\",\"81.0\",\"312.0\",\"0.0\",\"100.0\",\"0.0\",\"0.0\",\"6.0\",\"593.0\",\"71.0\",\"17.0\",\"0.0\",\"194.0\",\"87.0\",\"152.0\",\"10.0\",\"0.0\",\"0.0\",\"37.0\",\"498.0\",\"258.0\",\"186.0\",\"28.0\",\"186.0\",\"0.0\",\"60.0\",\"295.0\",\"0.0\",\"295.0\",\"244.0\",\"394.0\",\"55.0\",\"185.0\",\"131.0\",\"44.0\",\"2.0\",\"45.0\",\"35.0\",\"32.0\",\"88.0\",\"231.0\",\"134.0\",\"63.0\",\"147.0\",\"0.0\",\"0.0\",\"0.0\",\"34.0\",\"7.0\",\"0.0\",\"8.0\",\"0.0\",\"0.0\",\"9.0\",\"0.0\",\"0.0\",\"147.0\",\"0.0\",\"148.0\",\"Algeria\",\"Argentina\",\"Australia\",\"Austria\",\"Bangladesh\",\"Belarus\",\"Belgium\",\"Bolivia\",\"Brazil\",\"Bulgaria\",\"Cambodia\",\"Canada\",\"Chile\",\"China\",\"Colombia\",\"Croatia\",\"Cuba\",\"Cyprus\",\"Czech Republic\",\"Denmark\",\"Dominican Republic\",\"Egypt\",\"El Salvador\",\"Estonia\",\"European Union\",\"Finland\",\"France\",\"Germany\",\"Greece\",\"Guatemala\",\"Honduras\",\"Hungary\",\"India\",\"Indonesia\",\"Iran\",\"Iraq\",\"Israel\",\"Italy\",\"Japan\",\"Jordan\",\"Kenya\",\"Lithuania\",\"Luxembourg\",\"Malaysia\",\"Malta\",\"Mexico\",\"Morocco\",\"Namibia\",\"Netherlands\",\"New Zealand\",\"Norway\",\"Oman\",\"Pakistan\",\"Panama\",\"Peru\",\"Philippines\",\"Poland\",\"Portugal\",\"Romania\",\"Russia\",\"Saudi Arabia\",\"Senegal\",\"Singapore\",\"Slovakia\",\"Slovenia\",\"South Africa\",\"South Korea\",\"Spain\",\"Sweden\",\"Switzerland\",\"Taiwan\",\"Thailand\",\"Turkey\",\"Ukraine\",\"United Arab Emirates\",\"United Kingdom\",\"United States\",\"Uruguay\",\"Vietnam\",\"Yemen\"],\"marker\":{\"colors\":[\"#636efa\",\"#EF553B\",\"#00cc96\",\"#ab63fa\",\"#FFA15A\",\"#19d3f3\",\"#FF6692\",\"#B6E880\",\"#FF97FF\",\"#FECB52\",\"#636efa\",\"#EF553B\",\"#00cc96\",\"#ab63fa\",\"#FFA15A\",\"#19d3f3\",\"#FF6692\",\"#B6E880\",\"#FF97FF\",\"#FECB52\",\"#636efa\",\"#EF553B\",\"#00cc96\",\"#ab63fa\",\"#FFA15A\",\"#19d3f3\",\"#FF6692\",\"#B6E880\",\"#FF97FF\",\"#FECB52\",\"#636efa\",\"#EF553B\",\"#00cc96\",\"#ab63fa\",\"#FFA15A\",\"#19d3f3\",\"#FF6692\",\"#B6E880\",\"#FF97FF\",\"#FECB52\",\"#636efa\",\"#EF553B\",\"#00cc96\",\"#ab63fa\",\"#FFA15A\",\"#19d3f3\",\"#FF6692\",\"#B6E880\",\"#FF97FF\",\"#FECB52\",\"#636efa\",\"#EF553B\",\"#00cc96\",\"#ab63fa\",\"#FFA15A\",\"#19d3f3\",\"#FF6692\",\"#B6E880\",\"#FF97FF\",\"#FECB52\",\"#636efa\",\"#EF553B\",\"#00cc96\",\"#ab63fa\",\"#FFA15A\",\"#19d3f3\",\"#FF6692\",\"#B6E880\",\"#FF97FF\",\"#FECB52\",\"#636efa\",\"#EF553B\",\"#00cc96\",\"#ab63fa\",\"#FFA15A\",\"#19d3f3\",\"#FF6692\",\"#B6E880\",\"#FF97FF\",\"#FECB52\",\"#FF6692\",\"#ab63fa\",\"#19d3f3\",\"#B6E880\",\"#FF6692\",\"#FFA15A\",\"#EF553B\",\"#FF6692\",\"#EF553B\",\"#19d3f3\",\"#FF97FF\",\"#636efa\",\"#FFA15A\",\"#FFA15A\",\"#B6E880\",\"#ab63fa\",\"#00cc96\",\"#B6E880\",\"#ab63fa\",\"#00cc96\",\"#B6E880\",\"#FF97FF\",\"#00cc96\",\"#FF97FF\",\"#B6E880\",\"#FECB52\",\"#FECB52\",\"#FECB52\",\"#EF553B\",\"#FF6692\",\"#EF553B\",\"#FFA15A\",\"#FECB52\",\"#B6E880\",\"#EF553B\",\"#19d3f3\",\"#00cc96\",\"#B6E880\",\"#636efa\",\"#19d3f3\",\"#FF6692\",\"#FECB52\",\"#636efa\",\"#ab63fa\",\"#ab63fa\",\"#FF97FF\",\"#FF97FF\",\"#00cc96\",\"#FFA15A\",\"#FF97FF\",\"#EF553B\",\"#FF97FF\",\"#00cc96\",\"#00cc96\",\"#19d3f3\",\"#FFA15A\",\"#FF97FF\",\"#00cc96\",\"#636efa\",\"#FECB52\",\"#636efa\",\"#EF553B\",\"#B6E880\",\"#FFA15A\",\"#FF6692\",\"#19d3f3\",\"#19d3f3\",\"#FFA15A\",\"#ab63fa\",\"#FECB52\",\"#636efa\",\"#FECB52\",\"#636efa\",\"#636efa\",\"#ab63fa\",\"#FF6692\",\"#EF553B\",\"#19d3f3\",\"#FF6692\",\"#ab63fa\"]},\"name\":\"\",\"parents\":[\"Turkey\",\"Honduras\",\"El Salvador\",\"Croatia\",\"Chile\",\"South Korea\",\"Slovenia\",\"Italy\",\"Oman\",\"Thailand\",\"Taiwan\",\"Iran\",\"Pakistan\",\"Argentina\",\"Netherlands\",\"Australia\",\"United Kingdom\",\"Austria\",\"Egypt\",\"Finland\",\"Ukraine\",\"Brazil\",\"Portugal\",\"Malta\",\"Belarus\",\"Jordan\",\"Kenya\",\"Colombia\",\"Morocco\",\"Germany\",\"Romania\",\"Norway\",\"Cuba\",\"Czech Republic\",\"Slovakia\",\"Bulgaria\",\"Algeria\",\"Dominican Republic\",\"Cambodia\",\"Lithuania\",\"Japan\",\"Greece\",\"Denmark\",\"Malaysia\",\"Spain\",\"Uruguay\",\"Vietnam\",\"European Union\",\"New Zealand\",\"Switzerland\",\"Luxembourg\",\"Belgium\",\"Namibia\",\"United Arab Emirates\",\"Hungary\",\"South Africa\",\"Bangladesh\",\"Singapore\",\"Mexico\",\"India\",\"Canada\",\"United States\",\"Israel\",\"Sweden\",\"China\",\"Peru\",\"Guatemala\",\"Indonesia\",\"Poland\",\"Russia\",\"Saudi Arabia\",\"Senegal\",\"Panama\",\"Yemen\",\"Philippines\",\"Iraq\",\"Bolivia\",\"Cyprus\",\"Estonia\",\"France\",\"\",\"\",\"\",\"\",\"\",\"\",\"\",\"\",\"\",\"\",\"\",\"\",\"\",\"\",\"\",\"\",\"\",\"\",\"\",\"\",\"\",\"\",\"\",\"\",\"\",\"\",\"\",\"\",\"\",\"\",\"\",\"\",\"\",\"\",\"\",\"\",\"\",\"\",\"\",\"\",\"\",\"\",\"\",\"\",\"\",\"\",\"\",\"\",\"\",\"\",\"\",\"\",\"\",\"\",\"\",\"\",\"\",\"\",\"\",\"\",\"\",\"\",\"\",\"\",\"\",\"\",\"\",\"\",\"\",\"\",\"\",\"\",\"\",\"\",\"\",\"\",\"\",\"\",\"\",\"\"],\"values\":[73.0,53.0,0.0,17.0,142.0,217.0,0.0,345.0,0.0,43.0,172.0,5.0,6.0,0.0,396.0,637.0,200.0,178.0,17.0,39.0,114.0,22.0,81.0,312.0,0.0,100.0,0.0,0.0,6.0,593.0,71.0,17.0,0.0,194.0,87.0,152.0,10.0,0.0,0.0,37.0,498.0,258.0,186.0,28.0,186.0,0.0,60.0,295.0,0.0,295.0,244.0,394.0,55.0,185.0,131.0,44.0,2.0,45.0,35.0,32.0,88.0,231.0,134.0,63.0,147.0,0.0,0.0,0.0,34.0,7.0,0.0,8.0,0.0,0.0,9.0,0.0,0.0,147.0,0.0,148.0,10.0,0.0,637.0,178.0,2.0,0.0,394.0,0.0,22.0,152.0,0.0,88.0,142.0,147.0,0.0,17.0,0.0,147.0,194.0,186.0,0.0,17.0,0.0,0.0,295.0,39.0,148.0,593.0,258.0,0.0,53.0,131.0,32.0,0.0,5.0,0.0,134.0,345.0,498.0,100.0,0.0,37.0,244.0,28.0,312.0,35.0,6.0,55.0,396.0,0.0,17.0,0.0,6.0,0.0,0.0,9.0,34.0,81.0,71.0,7.0,0.0,8.0,45.0,87.0,0.0,44.0,217.0,186.0,63.0,295.0,172.0,43.0,73.0,114.0,185.0,200.0,231.0,0.0,60.0,0.0],\"type\":\"sunburst\"}],                        {\"template\":{\"data\":{\"bar\":[{\"error_x\":{\"color\":\"#2a3f5f\"},\"error_y\":{\"color\":\"#2a3f5f\"},\"marker\":{\"line\":{\"color\":\"#E5ECF6\",\"width\":0.5},\"pattern\":{\"fillmode\":\"overlay\",\"size\":10,\"solidity\":0.2}},\"type\":\"bar\"}],\"barpolar\":[{\"marker\":{\"line\":{\"color\":\"#E5ECF6\",\"width\":0.5},\"pattern\":{\"fillmode\":\"overlay\",\"size\":10,\"solidity\":0.2}},\"type\":\"barpolar\"}],\"carpet\":[{\"aaxis\":{\"endlinecolor\":\"#2a3f5f\",\"gridcolor\":\"white\",\"linecolor\":\"white\",\"minorgridcolor\":\"white\",\"startlinecolor\":\"#2a3f5f\"},\"baxis\":{\"endlinecolor\":\"#2a3f5f\",\"gridcolor\":\"white\",\"linecolor\":\"white\",\"minorgridcolor\":\"white\",\"startlinecolor\":\"#2a3f5f\"},\"type\":\"carpet\"}],\"choropleth\":[{\"colorbar\":{\"outlinewidth\":0,\"ticks\":\"\"},\"type\":\"choropleth\"}],\"contour\":[{\"colorbar\":{\"outlinewidth\":0,\"ticks\":\"\"},\"colorscale\":[[0.0,\"#0d0887\"],[0.1111111111111111,\"#46039f\"],[0.2222222222222222,\"#7201a8\"],[0.3333333333333333,\"#9c179e\"],[0.4444444444444444,\"#bd3786\"],[0.5555555555555556,\"#d8576b\"],[0.6666666666666666,\"#ed7953\"],[0.7777777777777778,\"#fb9f3a\"],[0.8888888888888888,\"#fdca26\"],[1.0,\"#f0f921\"]],\"type\":\"contour\"}],\"contourcarpet\":[{\"colorbar\":{\"outlinewidth\":0,\"ticks\":\"\"},\"type\":\"contourcarpet\"}],\"heatmap\":[{\"colorbar\":{\"outlinewidth\":0,\"ticks\":\"\"},\"colorscale\":[[0.0,\"#0d0887\"],[0.1111111111111111,\"#46039f\"],[0.2222222222222222,\"#7201a8\"],[0.3333333333333333,\"#9c179e\"],[0.4444444444444444,\"#bd3786\"],[0.5555555555555556,\"#d8576b\"],[0.6666666666666666,\"#ed7953\"],[0.7777777777777778,\"#fb9f3a\"],[0.8888888888888888,\"#fdca26\"],[1.0,\"#f0f921\"]],\"type\":\"heatmap\"}],\"heatmapgl\":[{\"colorbar\":{\"outlinewidth\":0,\"ticks\":\"\"},\"colorscale\":[[0.0,\"#0d0887\"],[0.1111111111111111,\"#46039f\"],[0.2222222222222222,\"#7201a8\"],[0.3333333333333333,\"#9c179e\"],[0.4444444444444444,\"#bd3786\"],[0.5555555555555556,\"#d8576b\"],[0.6666666666666666,\"#ed7953\"],[0.7777777777777778,\"#fb9f3a\"],[0.8888888888888888,\"#fdca26\"],[1.0,\"#f0f921\"]],\"type\":\"heatmapgl\"}],\"histogram\":[{\"marker\":{\"pattern\":{\"fillmode\":\"overlay\",\"size\":10,\"solidity\":0.2}},\"type\":\"histogram\"}],\"histogram2d\":[{\"colorbar\":{\"outlinewidth\":0,\"ticks\":\"\"},\"colorscale\":[[0.0,\"#0d0887\"],[0.1111111111111111,\"#46039f\"],[0.2222222222222222,\"#7201a8\"],[0.3333333333333333,\"#9c179e\"],[0.4444444444444444,\"#bd3786\"],[0.5555555555555556,\"#d8576b\"],[0.6666666666666666,\"#ed7953\"],[0.7777777777777778,\"#fb9f3a\"],[0.8888888888888888,\"#fdca26\"],[1.0,\"#f0f921\"]],\"type\":\"histogram2d\"}],\"histogram2dcontour\":[{\"colorbar\":{\"outlinewidth\":0,\"ticks\":\"\"},\"colorscale\":[[0.0,\"#0d0887\"],[0.1111111111111111,\"#46039f\"],[0.2222222222222222,\"#7201a8\"],[0.3333333333333333,\"#9c179e\"],[0.4444444444444444,\"#bd3786\"],[0.5555555555555556,\"#d8576b\"],[0.6666666666666666,\"#ed7953\"],[0.7777777777777778,\"#fb9f3a\"],[0.8888888888888888,\"#fdca26\"],[1.0,\"#f0f921\"]],\"type\":\"histogram2dcontour\"}],\"mesh3d\":[{\"colorbar\":{\"outlinewidth\":0,\"ticks\":\"\"},\"type\":\"mesh3d\"}],\"parcoords\":[{\"line\":{\"colorbar\":{\"outlinewidth\":0,\"ticks\":\"\"}},\"type\":\"parcoords\"}],\"pie\":[{\"automargin\":true,\"type\":\"pie\"}],\"scatter\":[{\"marker\":{\"colorbar\":{\"outlinewidth\":0,\"ticks\":\"\"}},\"type\":\"scatter\"}],\"scatter3d\":[{\"line\":{\"colorbar\":{\"outlinewidth\":0,\"ticks\":\"\"}},\"marker\":{\"colorbar\":{\"outlinewidth\":0,\"ticks\":\"\"}},\"type\":\"scatter3d\"}],\"scattercarpet\":[{\"marker\":{\"colorbar\":{\"outlinewidth\":0,\"ticks\":\"\"}},\"type\":\"scattercarpet\"}],\"scattergeo\":[{\"marker\":{\"colorbar\":{\"outlinewidth\":0,\"ticks\":\"\"}},\"type\":\"scattergeo\"}],\"scattergl\":[{\"marker\":{\"colorbar\":{\"outlinewidth\":0,\"ticks\":\"\"}},\"type\":\"scattergl\"}],\"scattermapbox\":[{\"marker\":{\"colorbar\":{\"outlinewidth\":0,\"ticks\":\"\"}},\"type\":\"scattermapbox\"}],\"scatterpolar\":[{\"marker\":{\"colorbar\":{\"outlinewidth\":0,\"ticks\":\"\"}},\"type\":\"scatterpolar\"}],\"scatterpolargl\":[{\"marker\":{\"colorbar\":{\"outlinewidth\":0,\"ticks\":\"\"}},\"type\":\"scatterpolargl\"}],\"scatterternary\":[{\"marker\":{\"colorbar\":{\"outlinewidth\":0,\"ticks\":\"\"}},\"type\":\"scatterternary\"}],\"surface\":[{\"colorbar\":{\"outlinewidth\":0,\"ticks\":\"\"},\"colorscale\":[[0.0,\"#0d0887\"],[0.1111111111111111,\"#46039f\"],[0.2222222222222222,\"#7201a8\"],[0.3333333333333333,\"#9c179e\"],[0.4444444444444444,\"#bd3786\"],[0.5555555555555556,\"#d8576b\"],[0.6666666666666666,\"#ed7953\"],[0.7777777777777778,\"#fb9f3a\"],[0.8888888888888888,\"#fdca26\"],[1.0,\"#f0f921\"]],\"type\":\"surface\"}],\"table\":[{\"cells\":{\"fill\":{\"color\":\"#EBF0F8\"},\"line\":{\"color\":\"white\"}},\"header\":{\"fill\":{\"color\":\"#C8D4E3\"},\"line\":{\"color\":\"white\"}},\"type\":\"table\"}]},\"layout\":{\"annotationdefaults\":{\"arrowcolor\":\"#2a3f5f\",\"arrowhead\":0,\"arrowwidth\":1},\"autotypenumbers\":\"strict\",\"coloraxis\":{\"colorbar\":{\"outlinewidth\":0,\"ticks\":\"\"}},\"colorscale\":{\"diverging\":[[0,\"#8e0152\"],[0.1,\"#c51b7d\"],[0.2,\"#de77ae\"],[0.3,\"#f1b6da\"],[0.4,\"#fde0ef\"],[0.5,\"#f7f7f7\"],[0.6,\"#e6f5d0\"],[0.7,\"#b8e186\"],[0.8,\"#7fbc41\"],[0.9,\"#4d9221\"],[1,\"#276419\"]],\"sequential\":[[0.0,\"#0d0887\"],[0.1111111111111111,\"#46039f\"],[0.2222222222222222,\"#7201a8\"],[0.3333333333333333,\"#9c179e\"],[0.4444444444444444,\"#bd3786\"],[0.5555555555555556,\"#d8576b\"],[0.6666666666666666,\"#ed7953\"],[0.7777777777777778,\"#fb9f3a\"],[0.8888888888888888,\"#fdca26\"],[1.0,\"#f0f921\"]],\"sequentialminus\":[[0.0,\"#0d0887\"],[0.1111111111111111,\"#46039f\"],[0.2222222222222222,\"#7201a8\"],[0.3333333333333333,\"#9c179e\"],[0.4444444444444444,\"#bd3786\"],[0.5555555555555556,\"#d8576b\"],[0.6666666666666666,\"#ed7953\"],[0.7777777777777778,\"#fb9f3a\"],[0.8888888888888888,\"#fdca26\"],[1.0,\"#f0f921\"]]},\"colorway\":[\"#636efa\",\"#EF553B\",\"#00cc96\",\"#ab63fa\",\"#FFA15A\",\"#19d3f3\",\"#FF6692\",\"#B6E880\",\"#FF97FF\",\"#FECB52\"],\"font\":{\"color\":\"#2a3f5f\"},\"geo\":{\"bgcolor\":\"white\",\"lakecolor\":\"white\",\"landcolor\":\"#E5ECF6\",\"showlakes\":true,\"showland\":true,\"subunitcolor\":\"white\"},\"hoverlabel\":{\"align\":\"left\"},\"hovermode\":\"closest\",\"mapbox\":{\"style\":\"light\"},\"paper_bgcolor\":\"white\",\"plot_bgcolor\":\"#E5ECF6\",\"polar\":{\"angularaxis\":{\"gridcolor\":\"white\",\"linecolor\":\"white\",\"ticks\":\"\"},\"bgcolor\":\"#E5ECF6\",\"radialaxis\":{\"gridcolor\":\"white\",\"linecolor\":\"white\",\"ticks\":\"\"}},\"scene\":{\"xaxis\":{\"backgroundcolor\":\"#E5ECF6\",\"gridcolor\":\"white\",\"gridwidth\":2,\"linecolor\":\"white\",\"showbackground\":true,\"ticks\":\"\",\"zerolinecolor\":\"white\"},\"yaxis\":{\"backgroundcolor\":\"#E5ECF6\",\"gridcolor\":\"white\",\"gridwidth\":2,\"linecolor\":\"white\",\"showbackground\":true,\"ticks\":\"\",\"zerolinecolor\":\"white\"},\"zaxis\":{\"backgroundcolor\":\"#E5ECF6\",\"gridcolor\":\"white\",\"gridwidth\":2,\"linecolor\":\"white\",\"showbackground\":true,\"ticks\":\"\",\"zerolinecolor\":\"white\"}},\"shapedefaults\":{\"line\":{\"color\":\"#2a3f5f\"}},\"ternary\":{\"aaxis\":{\"gridcolor\":\"white\",\"linecolor\":\"white\",\"ticks\":\"\"},\"baxis\":{\"gridcolor\":\"white\",\"linecolor\":\"white\",\"ticks\":\"\"},\"bgcolor\":\"#E5ECF6\",\"caxis\":{\"gridcolor\":\"white\",\"linecolor\":\"white\",\"ticks\":\"\"}},\"title\":{\"x\":0.05},\"xaxis\":{\"automargin\":true,\"gridcolor\":\"white\",\"linecolor\":\"white\",\"ticks\":\"\",\"title\":{\"standoff\":15},\"zerolinecolor\":\"white\",\"zerolinewidth\":2},\"yaxis\":{\"automargin\":true,\"gridcolor\":\"white\",\"linecolor\":\"white\",\"ticks\":\"\",\"title\":{\"standoff\":15},\"zerolinecolor\":\"white\",\"zerolinewidth\":2}}},\"legend\":{\"tracegroupgap\":0},\"title\":{\"text\":\"W consumed per capita in 2019 by Country\"}},                        {\"responsive\": true}                    ).then(function(){\n",
              "                            \n",
              "var gd = document.getElementById('6c222521-8ab2-446d-b36e-76cd7f48572b');\n",
              "var x = new MutationObserver(function (mutations, observer) {{\n",
              "        var display = window.getComputedStyle(gd).display;\n",
              "        if (!display || display === 'none') {{\n",
              "            console.log([gd, 'removed!']);\n",
              "            Plotly.purge(gd);\n",
              "            observer.disconnect();\n",
              "        }}\n",
              "}});\n",
              "\n",
              "// Listen for the removal of the full notebook cells\n",
              "var notebookContainer = gd.closest('#notebook-container');\n",
              "if (notebookContainer) {{\n",
              "    x.observe(notebookContainer, {childList: true});\n",
              "}}\n",
              "\n",
              "// Listen for the clearing of the current output cell\n",
              "var outputEl = gd.closest('.output');\n",
              "if (outputEl) {{\n",
              "    x.observe(outputEl, {childList: true});\n",
              "}}\n",
              "\n",
              "                        })                };                            </script>        </div>\n",
              "</body>\n",
              "</html>"
            ]
          },
          "metadata": {}
        },
        {
          "output_type": "display_data",
          "data": {
            "text/plain": [
              "<Figure size 432x288 with 0 Axes>"
            ]
          },
          "metadata": {}
        }
      ]
    },
    {
      "cell_type": "markdown",
      "source": [
        "# ***What is the total solarpower electricity produced by Mexico in 2020?***"
      ],
      "metadata": {
        "id": "tY4P1c-NfAxb"
      }
    },
    {
      "cell_type": "code",
      "source": [
        "print('The total solar power electricity produced by Mexico in 2020 is:', df2.iloc[19,5],'MW')"
      ],
      "metadata": {
        "colab": {
          "base_uri": "https://localhost:8080/"
        },
        "id": "jXI__8VjfTdV",
        "outputId": "e51e620f-a8d7-405a-d5fa-aab5ced10605"
      },
      "execution_count": 107,
      "outputs": [
        {
          "output_type": "stream",
          "name": "stdout",
          "text": [
            "The total solar power electricity produced by Mexico in 2020 is: 5644 MW\n"
          ]
        }
      ]
    },
    {
      "cell_type": "markdown",
      "source": [
        "# ***Solar energy production in Mexico through the years.***"
      ],
      "metadata": {
        "id": "Oi0bhUVB06IO"
      }
    },
    {
      "cell_type": "code",
      "source": [
        "df.set_index('Country', inplace = True)\n",
        "df.head(2)"
      ],
      "metadata": {
        "colab": {
          "base_uri": "https://localhost:8080/",
          "height": 277
        },
        "id": "kgLZ4XsUjBzA",
        "outputId": "5f8feb8b-7fbd-44b0-eecc-a6073aa66eca"
      },
      "execution_count": 108,
      "outputs": [
        {
          "output_type": "execute_result",
          "data": {
            "text/plain": [
              "                 2016 N      2016   2017 N      2017   2018 N    2018  \\\n",
              "Country                                                                 \n",
              "China           34540.0   78070.0  53000.0  131000.0  45000.0  175018   \n",
              "European Union      0.0  101433.0      0.0  107150.0   8300.0  115234   \n",
              "\n",
              "                 2019 N    2019   2020 N    2020  W per capita 2019  \\\n",
              "Country                                                               \n",
              "China           30100.0  204700  49655.0  254355              147.0   \n",
              "European Union  16000.0  134129  18788.0  152917              295.0   \n",
              "\n",
              "                Share of total consumption %  \n",
              "Country                                       \n",
              "China                                    6.2  \n",
              "European Union                           6.0  "
            ],
            "text/html": [
              "\n",
              "  <div id=\"df-3d0c0edc-1d2e-4d05-b40c-a779372a5e20\">\n",
              "    <div class=\"colab-df-container\">\n",
              "      <div>\n",
              "<style scoped>\n",
              "    .dataframe tbody tr th:only-of-type {\n",
              "        vertical-align: middle;\n",
              "    }\n",
              "\n",
              "    .dataframe tbody tr th {\n",
              "        vertical-align: top;\n",
              "    }\n",
              "\n",
              "    .dataframe thead th {\n",
              "        text-align: right;\n",
              "    }\n",
              "</style>\n",
              "<table border=\"1\" class=\"dataframe\">\n",
              "  <thead>\n",
              "    <tr style=\"text-align: right;\">\n",
              "      <th></th>\n",
              "      <th>2016 N</th>\n",
              "      <th>2016</th>\n",
              "      <th>2017 N</th>\n",
              "      <th>2017</th>\n",
              "      <th>2018 N</th>\n",
              "      <th>2018</th>\n",
              "      <th>2019 N</th>\n",
              "      <th>2019</th>\n",
              "      <th>2020 N</th>\n",
              "      <th>2020</th>\n",
              "      <th>W per capita 2019</th>\n",
              "      <th>Share of total consumption %</th>\n",
              "    </tr>\n",
              "    <tr>\n",
              "      <th>Country</th>\n",
              "      <th></th>\n",
              "      <th></th>\n",
              "      <th></th>\n",
              "      <th></th>\n",
              "      <th></th>\n",
              "      <th></th>\n",
              "      <th></th>\n",
              "      <th></th>\n",
              "      <th></th>\n",
              "      <th></th>\n",
              "      <th></th>\n",
              "      <th></th>\n",
              "    </tr>\n",
              "  </thead>\n",
              "  <tbody>\n",
              "    <tr>\n",
              "      <th>China</th>\n",
              "      <td>34540.0</td>\n",
              "      <td>78070.0</td>\n",
              "      <td>53000.0</td>\n",
              "      <td>131000.0</td>\n",
              "      <td>45000.0</td>\n",
              "      <td>175018</td>\n",
              "      <td>30100.0</td>\n",
              "      <td>204700</td>\n",
              "      <td>49655.0</td>\n",
              "      <td>254355</td>\n",
              "      <td>147.0</td>\n",
              "      <td>6.2</td>\n",
              "    </tr>\n",
              "    <tr>\n",
              "      <th>European Union</th>\n",
              "      <td>0.0</td>\n",
              "      <td>101433.0</td>\n",
              "      <td>0.0</td>\n",
              "      <td>107150.0</td>\n",
              "      <td>8300.0</td>\n",
              "      <td>115234</td>\n",
              "      <td>16000.0</td>\n",
              "      <td>134129</td>\n",
              "      <td>18788.0</td>\n",
              "      <td>152917</td>\n",
              "      <td>295.0</td>\n",
              "      <td>6.0</td>\n",
              "    </tr>\n",
              "  </tbody>\n",
              "</table>\n",
              "</div>\n",
              "      <button class=\"colab-df-convert\" onclick=\"convertToInteractive('df-3d0c0edc-1d2e-4d05-b40c-a779372a5e20')\"\n",
              "              title=\"Convert this dataframe to an interactive table.\"\n",
              "              style=\"display:none;\">\n",
              "        \n",
              "  <svg xmlns=\"http://www.w3.org/2000/svg\" height=\"24px\"viewBox=\"0 0 24 24\"\n",
              "       width=\"24px\">\n",
              "    <path d=\"M0 0h24v24H0V0z\" fill=\"none\"/>\n",
              "    <path d=\"M18.56 5.44l.94 2.06.94-2.06 2.06-.94-2.06-.94-.94-2.06-.94 2.06-2.06.94zm-11 1L8.5 8.5l.94-2.06 2.06-.94-2.06-.94L8.5 2.5l-.94 2.06-2.06.94zm10 10l.94 2.06.94-2.06 2.06-.94-2.06-.94-.94-2.06-.94 2.06-2.06.94z\"/><path d=\"M17.41 7.96l-1.37-1.37c-.4-.4-.92-.59-1.43-.59-.52 0-1.04.2-1.43.59L10.3 9.45l-7.72 7.72c-.78.78-.78 2.05 0 2.83L4 21.41c.39.39.9.59 1.41.59.51 0 1.02-.2 1.41-.59l7.78-7.78 2.81-2.81c.8-.78.8-2.07 0-2.86zM5.41 20L4 18.59l7.72-7.72 1.47 1.35L5.41 20z\"/>\n",
              "  </svg>\n",
              "      </button>\n",
              "      \n",
              "  <style>\n",
              "    .colab-df-container {\n",
              "      display:flex;\n",
              "      flex-wrap:wrap;\n",
              "      gap: 12px;\n",
              "    }\n",
              "\n",
              "    .colab-df-convert {\n",
              "      background-color: #E8F0FE;\n",
              "      border: none;\n",
              "      border-radius: 50%;\n",
              "      cursor: pointer;\n",
              "      display: none;\n",
              "      fill: #1967D2;\n",
              "      height: 32px;\n",
              "      padding: 0 0 0 0;\n",
              "      width: 32px;\n",
              "    }\n",
              "\n",
              "    .colab-df-convert:hover {\n",
              "      background-color: #E2EBFA;\n",
              "      box-shadow: 0px 1px 2px rgba(60, 64, 67, 0.3), 0px 1px 3px 1px rgba(60, 64, 67, 0.15);\n",
              "      fill: #174EA6;\n",
              "    }\n",
              "\n",
              "    [theme=dark] .colab-df-convert {\n",
              "      background-color: #3B4455;\n",
              "      fill: #D2E3FC;\n",
              "    }\n",
              "\n",
              "    [theme=dark] .colab-df-convert:hover {\n",
              "      background-color: #434B5C;\n",
              "      box-shadow: 0px 1px 3px 1px rgba(0, 0, 0, 0.15);\n",
              "      filter: drop-shadow(0px 1px 2px rgba(0, 0, 0, 0.3));\n",
              "      fill: #FFFFFF;\n",
              "    }\n",
              "  </style>\n",
              "\n",
              "      <script>\n",
              "        const buttonEl =\n",
              "          document.querySelector('#df-3d0c0edc-1d2e-4d05-b40c-a779372a5e20 button.colab-df-convert');\n",
              "        buttonEl.style.display =\n",
              "          google.colab.kernel.accessAllowed ? 'block' : 'none';\n",
              "\n",
              "        async function convertToInteractive(key) {\n",
              "          const element = document.querySelector('#df-3d0c0edc-1d2e-4d05-b40c-a779372a5e20');\n",
              "          const dataTable =\n",
              "            await google.colab.kernel.invokeFunction('convertToInteractive',\n",
              "                                                     [key], {});\n",
              "          if (!dataTable) return;\n",
              "\n",
              "          const docLinkHtml = 'Like what you see? Visit the ' +\n",
              "            '<a target=\"_blank\" href=https://colab.research.google.com/notebooks/data_table.ipynb>data table notebook</a>'\n",
              "            + ' to learn more about interactive tables.';\n",
              "          element.innerHTML = '';\n",
              "          dataTable['output_type'] = 'display_data';\n",
              "          await google.colab.output.renderOutput(dataTable, element);\n",
              "          const docLink = document.createElement('div');\n",
              "          docLink.innerHTML = docLinkHtml;\n",
              "          element.appendChild(docLink);\n",
              "        }\n",
              "      </script>\n",
              "    </div>\n",
              "  </div>\n",
              "  "
            ]
          },
          "metadata": {},
          "execution_count": 108
        }
      ]
    },
    {
      "cell_type": "code",
      "source": [
        "df2.set_index('Country', inplace = True)\n",
        "df2.head()"
      ],
      "metadata": {
        "colab": {
          "base_uri": "https://localhost:8080/",
          "height": 316
        },
        "id": "Rhg49HrOnde6",
        "outputId": "66ea7438-1888-48e9-e4d8-2e3d0c368c40"
      },
      "execution_count": 109,
      "outputs": [
        {
          "output_type": "execute_result",
          "data": {
            "text/plain": [
              "                    2016      2017    2018    2019    2020  \\\n",
              "Country                                                      \n",
              "China            78070.0  131000.0  175018  204700  254355   \n",
              "European Union  101433.0  107150.0  115234  134129  152917   \n",
              "United States    40300.0   51000.0   53184   60682   75572   \n",
              "Japan            42750.0   49000.0   55500   63000   67000   \n",
              "Germany          41220.0   42000.0   45930   49200   53783   \n",
              "\n",
              "                Share of total consumption %  \n",
              "Country                                       \n",
              "China                                    6.2  \n",
              "European Union                           6.0  \n",
              "United States                            3.4  \n",
              "Japan                                    8.3  \n",
              "Germany                                  9.7  "
            ],
            "text/html": [
              "\n",
              "  <div id=\"df-c090b033-b931-479b-95aa-1208407c7735\">\n",
              "    <div class=\"colab-df-container\">\n",
              "      <div>\n",
              "<style scoped>\n",
              "    .dataframe tbody tr th:only-of-type {\n",
              "        vertical-align: middle;\n",
              "    }\n",
              "\n",
              "    .dataframe tbody tr th {\n",
              "        vertical-align: top;\n",
              "    }\n",
              "\n",
              "    .dataframe thead th {\n",
              "        text-align: right;\n",
              "    }\n",
              "</style>\n",
              "<table border=\"1\" class=\"dataframe\">\n",
              "  <thead>\n",
              "    <tr style=\"text-align: right;\">\n",
              "      <th></th>\n",
              "      <th>2016</th>\n",
              "      <th>2017</th>\n",
              "      <th>2018</th>\n",
              "      <th>2019</th>\n",
              "      <th>2020</th>\n",
              "      <th>Share of total consumption %</th>\n",
              "    </tr>\n",
              "    <tr>\n",
              "      <th>Country</th>\n",
              "      <th></th>\n",
              "      <th></th>\n",
              "      <th></th>\n",
              "      <th></th>\n",
              "      <th></th>\n",
              "      <th></th>\n",
              "    </tr>\n",
              "  </thead>\n",
              "  <tbody>\n",
              "    <tr>\n",
              "      <th>China</th>\n",
              "      <td>78070.0</td>\n",
              "      <td>131000.0</td>\n",
              "      <td>175018</td>\n",
              "      <td>204700</td>\n",
              "      <td>254355</td>\n",
              "      <td>6.2</td>\n",
              "    </tr>\n",
              "    <tr>\n",
              "      <th>European Union</th>\n",
              "      <td>101433.0</td>\n",
              "      <td>107150.0</td>\n",
              "      <td>115234</td>\n",
              "      <td>134129</td>\n",
              "      <td>152917</td>\n",
              "      <td>6.0</td>\n",
              "    </tr>\n",
              "    <tr>\n",
              "      <th>United States</th>\n",
              "      <td>40300.0</td>\n",
              "      <td>51000.0</td>\n",
              "      <td>53184</td>\n",
              "      <td>60682</td>\n",
              "      <td>75572</td>\n",
              "      <td>3.4</td>\n",
              "    </tr>\n",
              "    <tr>\n",
              "      <th>Japan</th>\n",
              "      <td>42750.0</td>\n",
              "      <td>49000.0</td>\n",
              "      <td>55500</td>\n",
              "      <td>63000</td>\n",
              "      <td>67000</td>\n",
              "      <td>8.3</td>\n",
              "    </tr>\n",
              "    <tr>\n",
              "      <th>Germany</th>\n",
              "      <td>41220.0</td>\n",
              "      <td>42000.0</td>\n",
              "      <td>45930</td>\n",
              "      <td>49200</td>\n",
              "      <td>53783</td>\n",
              "      <td>9.7</td>\n",
              "    </tr>\n",
              "  </tbody>\n",
              "</table>\n",
              "</div>\n",
              "      <button class=\"colab-df-convert\" onclick=\"convertToInteractive('df-c090b033-b931-479b-95aa-1208407c7735')\"\n",
              "              title=\"Convert this dataframe to an interactive table.\"\n",
              "              style=\"display:none;\">\n",
              "        \n",
              "  <svg xmlns=\"http://www.w3.org/2000/svg\" height=\"24px\"viewBox=\"0 0 24 24\"\n",
              "       width=\"24px\">\n",
              "    <path d=\"M0 0h24v24H0V0z\" fill=\"none\"/>\n",
              "    <path d=\"M18.56 5.44l.94 2.06.94-2.06 2.06-.94-2.06-.94-.94-2.06-.94 2.06-2.06.94zm-11 1L8.5 8.5l.94-2.06 2.06-.94-2.06-.94L8.5 2.5l-.94 2.06-2.06.94zm10 10l.94 2.06.94-2.06 2.06-.94-2.06-.94-.94-2.06-.94 2.06-2.06.94z\"/><path d=\"M17.41 7.96l-1.37-1.37c-.4-.4-.92-.59-1.43-.59-.52 0-1.04.2-1.43.59L10.3 9.45l-7.72 7.72c-.78.78-.78 2.05 0 2.83L4 21.41c.39.39.9.59 1.41.59.51 0 1.02-.2 1.41-.59l7.78-7.78 2.81-2.81c.8-.78.8-2.07 0-2.86zM5.41 20L4 18.59l7.72-7.72 1.47 1.35L5.41 20z\"/>\n",
              "  </svg>\n",
              "      </button>\n",
              "      \n",
              "  <style>\n",
              "    .colab-df-container {\n",
              "      display:flex;\n",
              "      flex-wrap:wrap;\n",
              "      gap: 12px;\n",
              "    }\n",
              "\n",
              "    .colab-df-convert {\n",
              "      background-color: #E8F0FE;\n",
              "      border: none;\n",
              "      border-radius: 50%;\n",
              "      cursor: pointer;\n",
              "      display: none;\n",
              "      fill: #1967D2;\n",
              "      height: 32px;\n",
              "      padding: 0 0 0 0;\n",
              "      width: 32px;\n",
              "    }\n",
              "\n",
              "    .colab-df-convert:hover {\n",
              "      background-color: #E2EBFA;\n",
              "      box-shadow: 0px 1px 2px rgba(60, 64, 67, 0.3), 0px 1px 3px 1px rgba(60, 64, 67, 0.15);\n",
              "      fill: #174EA6;\n",
              "    }\n",
              "\n",
              "    [theme=dark] .colab-df-convert {\n",
              "      background-color: #3B4455;\n",
              "      fill: #D2E3FC;\n",
              "    }\n",
              "\n",
              "    [theme=dark] .colab-df-convert:hover {\n",
              "      background-color: #434B5C;\n",
              "      box-shadow: 0px 1px 3px 1px rgba(0, 0, 0, 0.15);\n",
              "      filter: drop-shadow(0px 1px 2px rgba(0, 0, 0, 0.3));\n",
              "      fill: #FFFFFF;\n",
              "    }\n",
              "  </style>\n",
              "\n",
              "      <script>\n",
              "        const buttonEl =\n",
              "          document.querySelector('#df-c090b033-b931-479b-95aa-1208407c7735 button.colab-df-convert');\n",
              "        buttonEl.style.display =\n",
              "          google.colab.kernel.accessAllowed ? 'block' : 'none';\n",
              "\n",
              "        async function convertToInteractive(key) {\n",
              "          const element = document.querySelector('#df-c090b033-b931-479b-95aa-1208407c7735');\n",
              "          const dataTable =\n",
              "            await google.colab.kernel.invokeFunction('convertToInteractive',\n",
              "                                                     [key], {});\n",
              "          if (!dataTable) return;\n",
              "\n",
              "          const docLinkHtml = 'Like what you see? Visit the ' +\n",
              "            '<a target=\"_blank\" href=https://colab.research.google.com/notebooks/data_table.ipynb>data table notebook</a>'\n",
              "            + ' to learn more about interactive tables.';\n",
              "          element.innerHTML = '';\n",
              "          dataTable['output_type'] = 'display_data';\n",
              "          await google.colab.output.renderOutput(dataTable, element);\n",
              "          const docLink = document.createElement('div');\n",
              "          docLink.innerHTML = docLinkHtml;\n",
              "          element.appendChild(docLink);\n",
              "        }\n",
              "      </script>\n",
              "    </div>\n",
              "  </div>\n",
              "  "
            ]
          },
          "metadata": {},
          "execution_count": 109
        }
      ]
    },
    {
      "cell_type": "code",
      "source": [
        "df_mexico = df.iloc[[19],[1,3,5,7,9]]\n",
        "mx_line = df_mexico.transpose()\n",
        "mx_line"
      ],
      "metadata": {
        "colab": {
          "base_uri": "https://localhost:8080/",
          "height": 206
        },
        "id": "DSsWULMWn0UV",
        "outputId": "de113003-78fb-4391-d753-0024be070e23"
      },
      "execution_count": 110,
      "outputs": [
        {
          "output_type": "execute_result",
          "data": {
            "text/plain": [
              "Country  Mexico\n",
              "2016      320.0\n",
              "2017      539.0\n",
              "2018     3200.0\n",
              "2019     4426.0\n",
              "2020     5644.0"
            ],
            "text/html": [
              "\n",
              "  <div id=\"df-9fe905b5-1850-47a9-998e-abdb67dbc604\">\n",
              "    <div class=\"colab-df-container\">\n",
              "      <div>\n",
              "<style scoped>\n",
              "    .dataframe tbody tr th:only-of-type {\n",
              "        vertical-align: middle;\n",
              "    }\n",
              "\n",
              "    .dataframe tbody tr th {\n",
              "        vertical-align: top;\n",
              "    }\n",
              "\n",
              "    .dataframe thead th {\n",
              "        text-align: right;\n",
              "    }\n",
              "</style>\n",
              "<table border=\"1\" class=\"dataframe\">\n",
              "  <thead>\n",
              "    <tr style=\"text-align: right;\">\n",
              "      <th>Country</th>\n",
              "      <th>Mexico</th>\n",
              "    </tr>\n",
              "  </thead>\n",
              "  <tbody>\n",
              "    <tr>\n",
              "      <th>2016</th>\n",
              "      <td>320.0</td>\n",
              "    </tr>\n",
              "    <tr>\n",
              "      <th>2017</th>\n",
              "      <td>539.0</td>\n",
              "    </tr>\n",
              "    <tr>\n",
              "      <th>2018</th>\n",
              "      <td>3200.0</td>\n",
              "    </tr>\n",
              "    <tr>\n",
              "      <th>2019</th>\n",
              "      <td>4426.0</td>\n",
              "    </tr>\n",
              "    <tr>\n",
              "      <th>2020</th>\n",
              "      <td>5644.0</td>\n",
              "    </tr>\n",
              "  </tbody>\n",
              "</table>\n",
              "</div>\n",
              "      <button class=\"colab-df-convert\" onclick=\"convertToInteractive('df-9fe905b5-1850-47a9-998e-abdb67dbc604')\"\n",
              "              title=\"Convert this dataframe to an interactive table.\"\n",
              "              style=\"display:none;\">\n",
              "        \n",
              "  <svg xmlns=\"http://www.w3.org/2000/svg\" height=\"24px\"viewBox=\"0 0 24 24\"\n",
              "       width=\"24px\">\n",
              "    <path d=\"M0 0h24v24H0V0z\" fill=\"none\"/>\n",
              "    <path d=\"M18.56 5.44l.94 2.06.94-2.06 2.06-.94-2.06-.94-.94-2.06-.94 2.06-2.06.94zm-11 1L8.5 8.5l.94-2.06 2.06-.94-2.06-.94L8.5 2.5l-.94 2.06-2.06.94zm10 10l.94 2.06.94-2.06 2.06-.94-2.06-.94-.94-2.06-.94 2.06-2.06.94z\"/><path d=\"M17.41 7.96l-1.37-1.37c-.4-.4-.92-.59-1.43-.59-.52 0-1.04.2-1.43.59L10.3 9.45l-7.72 7.72c-.78.78-.78 2.05 0 2.83L4 21.41c.39.39.9.59 1.41.59.51 0 1.02-.2 1.41-.59l7.78-7.78 2.81-2.81c.8-.78.8-2.07 0-2.86zM5.41 20L4 18.59l7.72-7.72 1.47 1.35L5.41 20z\"/>\n",
              "  </svg>\n",
              "      </button>\n",
              "      \n",
              "  <style>\n",
              "    .colab-df-container {\n",
              "      display:flex;\n",
              "      flex-wrap:wrap;\n",
              "      gap: 12px;\n",
              "    }\n",
              "\n",
              "    .colab-df-convert {\n",
              "      background-color: #E8F0FE;\n",
              "      border: none;\n",
              "      border-radius: 50%;\n",
              "      cursor: pointer;\n",
              "      display: none;\n",
              "      fill: #1967D2;\n",
              "      height: 32px;\n",
              "      padding: 0 0 0 0;\n",
              "      width: 32px;\n",
              "    }\n",
              "\n",
              "    .colab-df-convert:hover {\n",
              "      background-color: #E2EBFA;\n",
              "      box-shadow: 0px 1px 2px rgba(60, 64, 67, 0.3), 0px 1px 3px 1px rgba(60, 64, 67, 0.15);\n",
              "      fill: #174EA6;\n",
              "    }\n",
              "\n",
              "    [theme=dark] .colab-df-convert {\n",
              "      background-color: #3B4455;\n",
              "      fill: #D2E3FC;\n",
              "    }\n",
              "\n",
              "    [theme=dark] .colab-df-convert:hover {\n",
              "      background-color: #434B5C;\n",
              "      box-shadow: 0px 1px 3px 1px rgba(0, 0, 0, 0.15);\n",
              "      filter: drop-shadow(0px 1px 2px rgba(0, 0, 0, 0.3));\n",
              "      fill: #FFFFFF;\n",
              "    }\n",
              "  </style>\n",
              "\n",
              "      <script>\n",
              "        const buttonEl =\n",
              "          document.querySelector('#df-9fe905b5-1850-47a9-998e-abdb67dbc604 button.colab-df-convert');\n",
              "        buttonEl.style.display =\n",
              "          google.colab.kernel.accessAllowed ? 'block' : 'none';\n",
              "\n",
              "        async function convertToInteractive(key) {\n",
              "          const element = document.querySelector('#df-9fe905b5-1850-47a9-998e-abdb67dbc604');\n",
              "          const dataTable =\n",
              "            await google.colab.kernel.invokeFunction('convertToInteractive',\n",
              "                                                     [key], {});\n",
              "          if (!dataTable) return;\n",
              "\n",
              "          const docLinkHtml = 'Like what you see? Visit the ' +\n",
              "            '<a target=\"_blank\" href=https://colab.research.google.com/notebooks/data_table.ipynb>data table notebook</a>'\n",
              "            + ' to learn more about interactive tables.';\n",
              "          element.innerHTML = '';\n",
              "          dataTable['output_type'] = 'display_data';\n",
              "          await google.colab.output.renderOutput(dataTable, element);\n",
              "          const docLink = document.createElement('div');\n",
              "          docLink.innerHTML = docLinkHtml;\n",
              "          element.appendChild(docLink);\n",
              "        }\n",
              "      </script>\n",
              "    </div>\n",
              "  </div>\n",
              "  "
            ]
          },
          "metadata": {},
          "execution_count": 110
        }
      ]
    },
    {
      "cell_type": "code",
      "source": [
        "mx_line.plot(kind='line', figsize=(16,10))\n",
        "\n",
        "plt.title('Solar Power Electricity production in Mexico from 2016 to 2020')\n",
        "plt.ylabel('Electricity produced (MW)')\n",
        "plt.xlabel('Years')\n",
        "\n",
        "plt.show()"
      ],
      "metadata": {
        "colab": {
          "base_uri": "https://localhost:8080/",
          "height": 416
        },
        "id": "vsoqvk5T1UHs",
        "outputId": "0632733a-8292-4ee0-dbfc-1a6f4095fc11"
      },
      "execution_count": 111,
      "outputs": [
        {
          "output_type": "display_data",
          "data": {
            "text/plain": [
              "<Figure size 1152x720 with 1 Axes>"
            ],
            "image/png": "[encoded data removed]"
          },
          "metadata": {
            "needs_background": "light"
          }
        }
      ]
    },
    {
      "cell_type": "code",
      "source": [
        "df2_mexico = df2.iloc[19,0:6]\n",
        "mx2_line = df2_mexico.transpose()\n",
        "mx2_line"
      ],
      "metadata": {
        "colab": {
          "base_uri": "https://localhost:8080/"
        },
        "id": "q0xzrMJSlIdR",
        "outputId": "77bd40c5-7c87-4c49-aecc-6aaf54a01f7c"
      },
      "execution_count": 112,
      "outputs": [
        {
          "output_type": "execute_result",
          "data": {
            "text/plain": [
              "2016                             320.0\n",
              "2017                             539.0\n",
              "2018                            3200.0\n",
              "2019                            4426.0\n",
              "2020                            5644.0\n",
              "Share of total consumption %       3.2\n",
              "Name: Mexico, dtype: float64"
            ]
          },
          "metadata": {},
          "execution_count": 112
        }
      ]
    },
    {
      "cell_type": "markdown",
      "source": [
        "# ***Top 5 Solar energy generating countries***"
      ],
      "metadata": {
        "id": "Q-JgEMpfK-6u"
      }
    },
    {
      "cell_type": "code",
      "source": [
        "df2 = df2.drop(['Share of total consumption %'],\n",
        "              axis = 1)\n",
        "df2.head()"
      ],
      "metadata": {
        "colab": {
          "base_uri": "https://localhost:8080/",
          "height": 237
        },
        "id": "EbNiZtHFwkgZ",
        "outputId": "01a71f63-0dc3-4e7b-b6c1-e201f19b5b69"
      },
      "execution_count": 113,
      "outputs": [
        {
          "output_type": "execute_result",
          "data": {
            "text/plain": [
              "                    2016      2017    2018    2019    2020\n",
              "Country                                                   \n",
              "China            78070.0  131000.0  175018  204700  254355\n",
              "European Union  101433.0  107150.0  115234  134129  152917\n",
              "United States    40300.0   51000.0   53184   60682   75572\n",
              "Japan            42750.0   49000.0   55500   63000   67000\n",
              "Germany          41220.0   42000.0   45930   49200   53783"
            ],
            "text/html": [
              "\n",
              "  <div id=\"df-26583691-3095-4669-b7a2-3b414f11077f\">\n",
              "    <div class=\"colab-df-container\">\n",
              "      <div>\n",
              "<style scoped>\n",
              "    .dataframe tbody tr th:only-of-type {\n",
              "        vertical-align: middle;\n",
              "    }\n",
              "\n",
              "    .dataframe tbody tr th {\n",
              "        vertical-align: top;\n",
              "    }\n",
              "\n",
              "    .dataframe thead th {\n",
              "        text-align: right;\n",
              "    }\n",
              "</style>\n",
              "<table border=\"1\" class=\"dataframe\">\n",
              "  <thead>\n",
              "    <tr style=\"text-align: right;\">\n",
              "      <th></th>\n",
              "      <th>2016</th>\n",
              "      <th>2017</th>\n",
              "      <th>2018</th>\n",
              "      <th>2019</th>\n",
              "      <th>2020</th>\n",
              "    </tr>\n",
              "    <tr>\n",
              "      <th>Country</th>\n",
              "      <th></th>\n",
              "      <th></th>\n",
              "      <th></th>\n",
              "      <th></th>\n",
              "      <th></th>\n",
              "    </tr>\n",
              "  </thead>\n",
              "  <tbody>\n",
              "    <tr>\n",
              "      <th>China</th>\n",
              "      <td>78070.0</td>\n",
              "      <td>131000.0</td>\n",
              "      <td>175018</td>\n",
              "      <td>204700</td>\n",
              "      <td>254355</td>\n",
              "    </tr>\n",
              "    <tr>\n",
              "      <th>European Union</th>\n",
              "      <td>101433.0</td>\n",
              "      <td>107150.0</td>\n",
              "      <td>115234</td>\n",
              "      <td>134129</td>\n",
              "      <td>152917</td>\n",
              "    </tr>\n",
              "    <tr>\n",
              "      <th>United States</th>\n",
              "      <td>40300.0</td>\n",
              "      <td>51000.0</td>\n",
              "      <td>53184</td>\n",
              "      <td>60682</td>\n",
              "      <td>75572</td>\n",
              "    </tr>\n",
              "    <tr>\n",
              "      <th>Japan</th>\n",
              "      <td>42750.0</td>\n",
              "      <td>49000.0</td>\n",
              "      <td>55500</td>\n",
              "      <td>63000</td>\n",
              "      <td>67000</td>\n",
              "    </tr>\n",
              "    <tr>\n",
              "      <th>Germany</th>\n",
              "      <td>41220.0</td>\n",
              "      <td>42000.0</td>\n",
              "      <td>45930</td>\n",
              "      <td>49200</td>\n",
              "      <td>53783</td>\n",
              "    </tr>\n",
              "  </tbody>\n",
              "</table>\n",
              "</div>\n",
              "      <button class=\"colab-df-convert\" onclick=\"convertToInteractive('df-26583691-3095-4669-b7a2-3b414f11077f')\"\n",
              "              title=\"Convert this dataframe to an interactive table.\"\n",
              "              style=\"display:none;\">\n",
              "        \n",
              "  <svg xmlns=\"http://www.w3.org/2000/svg\" height=\"24px\"viewBox=\"0 0 24 24\"\n",
              "       width=\"24px\">\n",
              "    <path d=\"M0 0h24v24H0V0z\" fill=\"none\"/>\n",
              "    <path d=\"M18.56 5.44l.94 2.06.94-2.06 2.06-.94-2.06-.94-.94-2.06-.94 2.06-2.06.94zm-11 1L8.5 8.5l.94-2.06 2.06-.94-2.06-.94L8.5 2.5l-.94 2.06-2.06.94zm10 10l.94 2.06.94-2.06 2.06-.94-2.06-.94-.94-2.06-.94 2.06-2.06.94z\"/><path d=\"M17.41 7.96l-1.37-1.37c-.4-.4-.92-.59-1.43-.59-.52 0-1.04.2-1.43.59L10.3 9.45l-7.72 7.72c-.78.78-.78 2.05 0 2.83L4 21.41c.39.39.9.59 1.41.59.51 0 1.02-.2 1.41-.59l7.78-7.78 2.81-2.81c.8-.78.8-2.07 0-2.86zM5.41 20L4 18.59l7.72-7.72 1.47 1.35L5.41 20z\"/>\n",
              "  </svg>\n",
              "      </button>\n",
              "      \n",
              "  <style>\n",
              "    .colab-df-container {\n",
              "      display:flex;\n",
              "      flex-wrap:wrap;\n",
              "      gap: 12px;\n",
              "    }\n",
              "\n",
              "    .colab-df-convert {\n",
              "      background-color: #E8F0FE;\n",
              "      border: none;\n",
              "      border-radius: 50%;\n",
              "      cursor: pointer;\n",
              "      display: none;\n",
              "      fill: #1967D2;\n",
              "      height: 32px;\n",
              "      padding: 0 0 0 0;\n",
              "      width: 32px;\n",
              "    }\n",
              "\n",
              "    .colab-df-convert:hover {\n",
              "      background-color: #E2EBFA;\n",
              "      box-shadow: 0px 1px 2px rgba(60, 64, 67, 0.3), 0px 1px 3px 1px rgba(60, 64, 67, 0.15);\n",
              "      fill: #174EA6;\n",
              "    }\n",
              "\n",
              "    [theme=dark] .colab-df-convert {\n",
              "      background-color: #3B4455;\n",
              "      fill: #D2E3FC;\n",
              "    }\n",
              "\n",
              "    [theme=dark] .colab-df-convert:hover {\n",
              "      background-color: #434B5C;\n",
              "      box-shadow: 0px 1px 3px 1px rgba(0, 0, 0, 0.15);\n",
              "      filter: drop-shadow(0px 1px 2px rgba(0, 0, 0, 0.3));\n",
              "      fill: #FFFFFF;\n",
              "    }\n",
              "  </style>\n",
              "\n",
              "      <script>\n",
              "        const buttonEl =\n",
              "          document.querySelector('#df-26583691-3095-4669-b7a2-3b414f11077f button.colab-df-convert');\n",
              "        buttonEl.style.display =\n",
              "          google.colab.kernel.accessAllowed ? 'block' : 'none';\n",
              "\n",
              "        async function convertToInteractive(key) {\n",
              "          const element = document.querySelector('#df-26583691-3095-4669-b7a2-3b414f11077f');\n",
              "          const dataTable =\n",
              "            await google.colab.kernel.invokeFunction('convertToInteractive',\n",
              "                                                     [key], {});\n",
              "          if (!dataTable) return;\n",
              "\n",
              "          const docLinkHtml = 'Like what you see? Visit the ' +\n",
              "            '<a target=\"_blank\" href=https://colab.research.google.com/notebooks/data_table.ipynb>data table notebook</a>'\n",
              "            + ' to learn more about interactive tables.';\n",
              "          element.innerHTML = '';\n",
              "          dataTable['output_type'] = 'display_data';\n",
              "          await google.colab.output.renderOutput(dataTable, element);\n",
              "          const docLink = document.createElement('div');\n",
              "          docLink.innerHTML = docLinkHtml;\n",
              "          element.appendChild(docLink);\n",
              "        }\n",
              "      </script>\n",
              "    </div>\n",
              "  </div>\n",
              "  "
            ]
          },
          "metadata": {},
          "execution_count": 113
        }
      ]
    },
    {
      "cell_type": "code",
      "source": [
        "df_top = df2.sort_values(by = '2020',\n",
        "                        ascending = False, \n",
        "                        axis = 0,\n",
        "                        inplace = False)\n",
        "df_top.head()\n",
        "df_top5 = df_top.head(5)\n",
        "df_top5\n",
        "\n",
        "df_top5 = df_top5.transpose()\n",
        "df_top5\n",
        "\n",
        "df_top5.plot(kind = 'line', figsize=(16,10))\n",
        "\n",
        "plt.title('Top 5 Solar Energy Generating Countries from 2016 to 2020')\n",
        "plt.ylabel('Electricity produced (MW')\n",
        "plt.xlabel('Years')\n",
        "\n",
        "plt.show()"
      ],
      "metadata": {
        "colab": {
          "base_uri": "https://localhost:8080/",
          "height": 411
        },
        "id": "C8U4M9T-3dQn",
        "outputId": "1724390e-d273-40b0-d1a6-4b5718f2b2dc"
      },
      "execution_count": 114,
      "outputs": [
        {
          "output_type": "display_data",
          "data": {
            "text/plain": [
              "<Figure size 1152x720 with 1 Axes>"
            ],
            "image/png": "[encoded data removed]"
          },
          "metadata": {
            "needs_background": "light"
          }
        }
      ]
    },
    {
      "cell_type": "markdown",
      "source": [
        "# ***Is there any effect of Generation of Solar Power in 2019 in the Generation of Solar Power in 2020?***"
      ],
      "metadata": {
        "id": "WUEgN3cbGsc9"
      }
    },
    {
      "cell_type": "code",
      "source": [
        "import statsmodels.api as sm\n",
        "from sklearn import linear_model"
      ],
      "metadata": {
        "id": "WX5WAicAHk8W"
      },
      "execution_count": 115,
      "outputs": []
    },
    {
      "cell_type": "code",
      "source": [
        "y = pd.DataFrame(df['2020'])\n",
        "x = pd.DataFrame(df['2019'])\n",
        "\n",
        "lm = linear_model.LinearRegression()\n",
        "\n",
        "model_lm = lm.fit(x,y)\n",
        "model_lm"
      ],
      "metadata": {
        "colab": {
          "base_uri": "https://localhost:8080/"
        },
        "id": "Dfm8X64jHFSB",
        "outputId": "8fe7af28-fa36-402a-8a09-0ec12c8acb90"
      },
      "execution_count": 116,
      "outputs": [
        {
          "output_type": "execute_result",
          "data": {
            "text/plain": [
              "LinearRegression()"
            ]
          },
          "metadata": {},
          "execution_count": 116
        }
      ]
    },
    {
      "cell_type": "code",
      "source": [
        "print('The y intercept, b0 is = ', model_lm.intercept_)\n",
        "print('The coef., b1 is = ', model_lm.coef_)\n",
        "print('The r^2 is = ', model_lm.score(x,y))"
      ],
      "metadata": {
        "colab": {
          "base_uri": "https://localhost:8080/"
        },
        "id": "7TABuhZkH0ko",
        "outputId": "d8cca446-fdeb-47da-ebc4-a5633115d747"
      },
      "execution_count": 117,
      "outputs": [
        {
          "output_type": "stream",
          "name": "stdout",
          "text": [
            "The y intercept, b0 is =  [85.8848645]\n",
            "The coef., b1 is =  [[1.19892593]]\n",
            "The r^2 is =  0.9956645684156715\n"
          ]
        }
      ]
    },
    {
      "cell_type": "code",
      "source": [
        "plt.figure(figsize = (10, 8))\n",
        "\n",
        "ax = sns.regplot(x = '2020',\n",
        "                 y = 'Share of total consumption %',\n",
        "                 data = df,\n",
        "                 color = 'blue',\n",
        "                 marker = '+',\n",
        "                 scatter_kws = {'s':20},\n",
        "                 )\n",
        "\n",
        "ax.set(xlabel = 'MW generated in 2020 by solar power per Country',\n",
        "       ylabel = 'Share of total consumption % per Country')\n",
        "\n",
        "ax.text(50, 42, 'MW generated by solar power = 2.12706627 + 0.10939262543061834 * Share of total consumption (%)',\n",
        "        horizontalalignment = 'center', size = 'medium',\n",
        "        color = 'black', weight = 'semibold')\n",
        "\n",
        "ax.set_title('Regression plot of Age vs Salary')\n",
        "plt.show()"
      ],
      "metadata": {
        "colab": {
          "base_uri": "https://localhost:8080/",
          "height": 389
        },
        "id": "too2fKoqIVHP",
        "outputId": "1757bb96-8d31-43a3-d5c8-016175d3aaa3"
      },
      "execution_count": 118,
      "outputs": [
        {
          "output_type": "display_data",
          "data": {
            "text/plain": [
              "<Figure size 720x576 with 1 Axes>"
            ],
            "image/png": "[encoded data removed]"
          },
          "metadata": {
            "needs_background": "light"
          }
        }
      ]
    },
    {
      "cell_type": "markdown",
      "source": [
        "# ***Dashboard***"
      ],
      "metadata": {
        "id": "stVDAgY44bTL"
      }
    },
    {
      "cell_type": "code",
      "source": [
        "pip install dash"
      ],
      "metadata": {
        "id": "DhRzjoAODnmr"
      },
      "execution_count": null,
      "outputs": []
    },
    {
      "cell_type": "code",
      "source": [
        "import dash"
      ],
      "metadata": {
        "id": "0YVqB4032aKU"
      },
      "execution_count": 31,
      "outputs": []
    },
    {
      "cell_type": "code",
      "source": [
        "from dash import html\n",
        "from dash import dcc"
      ],
      "metadata": {
        "id": "Wj7wBl3H2a21"
      },
      "execution_count": 32,
      "outputs": []
    },
    {
      "cell_type": "code",
      "source": [
        "pip install jupyter_dash"
      ],
      "metadata": {
        "id": "MQzFyuOj2fHR"
      },
      "execution_count": null,
      "outputs": []
    },
    {
      "cell_type": "code",
      "source": [
        "from jupyter_dash import JupyterDash"
      ],
      "metadata": {
        "id": "L9BvEIiY2iKh"
      },
      "execution_count": 35,
      "outputs": []
    },
    {
      "cell_type": "code",
      "source": [
        "p2 = JupyterDash(__name__)\n",
        "p2.layout = html.Div(children=[html.H1('Gráficas de Yenny',\n",
        "                                       ),\n",
        "                               dcc.Graph(figure=fig1),\n",
        "                               dcc.Graph(figure= fig2)\n",
        "                               ]\n",
        "                     )\n",
        "if __name__ =='__main__':\n",
        "  p2.run_server()"
      ],
      "metadata": {
        "colab": {
          "base_uri": "https://localhost:8080/",
          "height": 53
        },
        "id": "ItiS2P3D2o7g",
        "outputId": "796014a5-2711-4f18-bbae-5cd2fda0d90e"
      },
      "execution_count": 54,
      "outputs": [
        {
          "output_type": "stream",
          "name": "stdout",
          "text": [
            "Dash app running on:\n"
          ]
        },
        {
          "output_type": "display_data",
          "data": {
            "text/plain": [
              "<IPython.core.display.Javascript object>"
            ],
            "application/javascript": [
              "(async (port, path, text, element) => {\n",
              "    if (!google.colab.kernel.accessAllowed) {\n",
              "      return;\n",
              "    }\n",
              "    element.appendChild(document.createTextNode(''));\n",
              "    const url = await google.colab.kernel.proxyPort(port);\n",
              "    const anchor = document.createElement('a');\n",
              "    anchor.href = new URL(path, url).toString();\n",
              "    anchor.target = '_blank';\n",
              "    anchor.setAttribute('data-href', url + path);\n",
              "    anchor.textContent = text;\n",
              "    element.appendChild(anchor);\n",
              "  })(8050, \"/\", \"http://127.0.0.1:8050/\", window.element)"
            ]
          },
          "metadata": {}
        }
      ]
    },
    {
      "cell_type": "markdown",
      "source": [
        "# ***Conclusions***\n",
        "\n",
        "#### **Observations from the data**\n",
        "\n",
        "From the tables and graphics we can learn a lot about the information presented.\n",
        "\n",
        "Some of the main observations:\n",
        "* The relation beetween between the share of total consumption and the energy generated by solar power per country is very poor.\n",
        "* China, veing the higher consumer of energy, is also the solar power energy most important generator.\n",
        "* The information from de the linear regression is not so trust worthy, as it lacks important information.\n",
        "* The top 5 generators of solar power are China, European Union, United States, Japan and Germany.\n",
        "* Mexico's numbers in  solar power generation have increased surprisingly fast since 2017.\n",
        "\n",
        "#### **General conclusions**\n",
        "It is very useful to use python as data visualizer, it allows you to order the data whichever way you want, as long as you know how to use it correctly. However, it is important that the programmer completely understads the data they are working with in order to chose the best type of graphic to represent different information.\n",
        "\n",
        "I will keep trying to get better at this because it surely is a very important skill in any job you may have as an ingeneer. I know I have room for improvement but that motivates me to learn."
      ],
      "metadata": {
        "id": "XANQPbBBBvSH"
      }
    },
    {
      "cell_type": "markdown",
      "source": [
        "It is very useful to use python as data visualizer, it allows you to order the data whichever way you want, as long as you know how to use it correctly. However, it is important that the programmer completely understads the data they are working with in order to chose the best type of graphic to represent different information.\n",
        "\n",
        "I will keep trying to get better at this because it surely is a very important skill in any job you may have as an ingeneer. I know I have room for improvement but that motivates me to learn."
      ],
      "metadata": {
        "id": "HJFA486tB4NE"
      }
    }
  ]
}